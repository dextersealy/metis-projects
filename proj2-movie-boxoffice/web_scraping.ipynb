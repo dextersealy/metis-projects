{
 "cells": [
  {
   "cell_type": "code",
   "execution_count": 1,
   "metadata": {
    "collapsed": true
   },
   "outputs": [],
   "source": [
    "from __future__ import print_function, division"
   ]
  },
  {
   "cell_type": "markdown",
   "metadata": {},
   "source": [
    "### Utilities"
   ]
  },
  {
   "cell_type": "markdown",
   "metadata": {},
   "source": [
    "#### A simple web page cache"
   ]
  },
  {
   "cell_type": "code",
   "execution_count": 2,
   "metadata": {
    "collapsed": true
   },
   "outputs": [],
   "source": [
    "import os\n",
    "import pickle\n",
    "import requests\n",
    "import uuid"
   ]
  },
  {
   "cell_type": "code",
   "execution_count": 3,
   "metadata": {
    "collapsed": true
   },
   "outputs": [],
   "source": [
    "_cache = None\n",
    "_cache_dir = \"./cache\"\n",
    "_cache_index = os.path.join(_cache_dir, 'index.pkl')"
   ]
  },
  {
   "cell_type": "code",
   "execution_count": 4,
   "metadata": {
    "collapsed": true
   },
   "outputs": [],
   "source": [
    "def cache_init():\n",
    "    global _cache\n",
    "    if _cache == None:\n",
    "        if os.path.exists(_cache_index):\n",
    "            with open(_cache_index, 'rb') as fd:\n",
    "                _cache = pickle.load(fd)\n",
    "        else:\n",
    "            _cache = {}\n",
    "    return _cache\n",
    "\n",
    "def cache_get(key):\n",
    "    return cache_init().get(key, '')\n",
    "\n",
    "def cache_add(key, value):\n",
    "    cache = cache_init()\n",
    "    cache[key] = value\n",
    "    with open(_cache_index, 'wb') as fd:\n",
    "        pickle.dump(cache, fd)"
   ]
  },
  {
   "cell_type": "code",
   "execution_count": 5,
   "metadata": {
    "collapsed": true
   },
   "outputs": [],
   "source": [
    "def get_page(url):\n",
    "    \"\"\"Get a web page.\"\"\"\n",
    "\n",
    "    # Check if we have this page\n",
    "    \n",
    "    filename = cache_get(url)\n",
    "    if filename and os.path.exists(filename):\n",
    "        with open(filename, 'rb') as fd:\n",
    "            return fd.read()\n",
    "\n",
    "    # Otherwise, download the page ...\n",
    "    \n",
    "    r = requests.get(url, timeout=10)\n",
    "    r.raise_for_status()\n",
    "    \n",
    "    # ... and cache it\n",
    "\n",
    "    global _cache_dir\n",
    "    if not os.path.isdir(_cache_dir):\n",
    "        os.mkdir(_cache_dir)\n",
    "        \n",
    "    if not filename:\n",
    "        filename = os.path.join(_cache_dir, uuid.uuid4().hex)\n",
    "\n",
    "    with open(filename, 'wb') as fd:\n",
    "        for chunk in r.iter_content(chunk_size=4096):\n",
    "            fd.write(chunk)\n",
    "\n",
    "    cache_add(url, filename)\n",
    "    \n",
    "    return r.text"
   ]
  },
  {
   "cell_type": "markdown",
   "metadata": {},
   "source": [
    "#### Pretty printers"
   ]
  },
  {
   "cell_type": "code",
   "execution_count": 6,
   "metadata": {
    "collapsed": true
   },
   "outputs": [],
   "source": [
    "from IPython.display import display, HTML"
   ]
  },
  {
   "cell_type": "code",
   "execution_count": 7,
   "metadata": {
    "collapsed": false
   },
   "outputs": [],
   "source": [
    "def pp_dict(d):\n",
    "    display(HTML(\n",
    "        u'<table>{}</table>'.format(\n",
    "            u''.join(u'<tr><td><b>{}</b></td><td>{}</td></tr>'.format(k, d[k]) for k in d))))\n",
    "\n",
    "def pp_dictOflist(d):\n",
    "    display(HTML(\n",
    "        u'<table>{}</table>'.format(\n",
    "            u''.join(u'<tr><td><b>{}</b></td>{}</tr>'.format(k,\n",
    "                u''.join(u'<td>{}</td>'.format(v) for v in d[k])) for k in sorted(d.keys())))))\n",
    "    \n",
    "def pp_listOflist(l):\n",
    "    display(HTML(\n",
    "        u'<table>{}</table>'.format(\n",
    "            u''.join(u'<tr>{}</tr>'.format(\n",
    "                u''.join(u'<td>{}</td>'.format(v) for v in sublist)) for sublist in l))))"
   ]
  },
  {
   "cell_type": "markdown",
   "metadata": {},
   "source": [
    "#### Conversion/parsing functions"
   ]
  },
  {
   "cell_type": "code",
   "execution_count": 8,
   "metadata": {
    "collapsed": false
   },
   "outputs": [],
   "source": [
    "def cvt_runtime(s):\n",
    "    m = re.search('(\\d+)\\s+hrs.\\s+(\\d+)\\s+min.', s)\n",
    "    return 60 * int(m.group(1)) + int(m.group(2)) if m else float('nan')\n",
    "\n",
    "def cvt_million(s):\n",
    "    result = float('nan')\n",
    "    regexs = [('\\$([0-9.]+) million', 1), ('\\$([0-9.]+)$', 1),\n",
    "              ('\\$([0-9,]+)', 1e-6), ('\\$([0-9.]+)k', 1e-3)]\n",
    "    if not s == 'N/A':\n",
    "        for exp, factor in regexs:\n",
    "            m = re.match(exp, s)\n",
    "            if m:\n",
    "                result = round(float(m.group(1).replace(',', '')) * factor, 3)\n",
    "                break\n",
    "        if result == float('nan'):\n",
    "            print('warning: unrecognized budget amount \\'{0:s}\\''.format(s), file=sys.stderr)\n",
    "    return result if result > 0 else float('nan')\n",
    "\n",
    "_genres = {}\n",
    "def cvt_genre(s):\n",
    "    global _genres\n",
    "    if not _genres:\n",
    "        with open('genres.csv', mode='r') as fd:\n",
    "            reader = csv.reader(fd)\n",
    "            _genres = { row[0] : row[1] for row in reader }\n",
    "    return _genres.get(s, 'Other')\n",
    "\n",
    "def cvt_rating(s):\n",
    "    return s.lower().replace('-', '')"
   ]
  },
  {
   "cell_type": "markdown",
   "metadata": {},
   "source": [
    "#### Scraping functions"
   ]
  },
  {
   "cell_type": "code",
   "execution_count": 9,
   "metadata": {
    "collapsed": true
   },
   "outputs": [],
   "source": [
    "import csv\n",
    "import numpy as np\n",
    "import pandas as pd\n",
    "import re\n",
    "import sys\n",
    "import urllib\n",
    "from bs4 import BeautifulSoup"
   ]
  },
  {
   "cell_type": "markdown",
   "metadata": {},
   "source": [
    "I scrape the average gross per movie for all actors, composers, directors, producers, and writers from boxofficemojo.com. This information is used calculate artist scores."
   ]
  },
  {
   "cell_type": "code",
   "execution_count": 10,
   "metadata": {
    "collapsed": false
   },
   "outputs": [
    {
     "data": {
      "text/html": [
       "<h4>People Table:</h4>\n",
       "<table cellspacing=\"1\" cellpadding=\"5\" border=\"0\" width=\"98%\"><tbody><tr bgcolor=\"#dcdcdc\"><td align=\"center\"><font size=\"2\">Row</font></td><td align=\"center\"><font size=\"2\"><a href=\"/people/?view=Actor&amp;sort=person&amp;order=ASC&amp;p=.htm\">Person<br>(Click to view)</a></font></td><td align=\"center\"><font size=\"2\"><a href=\"/people/?view=Actor&amp;sort=sumgross&amp;order=ASC&amp;p=.htm\"><b>Total Gross</b></a></font></td><td colspan=\"2\" align=\"center\"><font size=\"2\"><a href=\"/people/?view=Actor&amp;sort=nummovies&amp;order=DESC&amp;p=.htm\"># Movies</a> / </font><font size=\"2\"><a href=\"/people/?view=Actor&amp;sort=avggross&amp;order=DESC&amp;p=.htm\">Average</a></font></td><td align=\"center\"><font size=\"2\"><a href=\"/people/?view=Actor&amp;sort=title&amp;order=ASC&amp;p=.htm\">#1 Picture</a></font></td><td align=\"center\"><font size=\"2\"><a href=\"/people/?view=Actor&amp;sort=gross&amp;order=DESC&amp;p=.htm\">Gross</a></font></td></tr><tr bgcolor=\"#ffffff\"><td align=\"center\"><font size=\"2\">1</font></td><td><font size=\"2\"><a href=\"./chart/?view=Actor&amp;id=samuelljackson.htm\"><b>Samuel L. Jackson</b></a></font></td><td align=\"right\"><font size=\"2\"><b>$4,894.1</b></font></td><td align=\"right\"><font size=\"2\">71</font></td><td align=\"right\"><font size=\"2\">$68.9</font></td><td align=\"center\"><font size=\"2\"><a href=\"/movies/?id=avengers11.htm\">The Avengers</a></font></td><td align=\"right\"><font size=\"2\">$623.4</font></td></tr><tr bgcolor=\"#f4f4ff\"><td align=\"center\"><font size=\"2\">2</font></td><td><font size=\"2\"><a href=\"./chart/?view=Actor&amp;id=harrisonford.htm\"><b>Harrison Ford</b></a></font></td><td align=\"right\"><font size=\"2\"><b>$4,871.7</b></font></td><td align=\"right\"><font size=\"2\">41</font></td><td align=\"right\"><font size=\"2\">$118.8</font></td><td align=\"center\"><font size=\"2\"><a href=\"/movies/?id=starwars7.htm\">Star Wars: The Force Awakens</a></font></td><td align=\"right\"><font size=\"2\">$936.7</font></td></tr><tr bgcolor=\"#ffffff\"><td align=\"center\"><font size=\"2\">3</font></td><td><font size=\"2\"><a href=\"./chart/?view=Actor&amp;id=tomhanks.htm\"><b>Tom Hanks</b></a></font></td><td align=\"right\"><font size=\"2\"><b>$4,502.4</b></font></td><td align=\"right\"><font size=\"2\">46</font></td><td align=\"right\"><font size=\"2\">$97.9</font></td><td align=\"center\"><font size=\"2\"><a href=\"/movies/?id=toystory3.htm\">Toy Story 3</a></font></td><td align=\"right\"><font size=\"2\">$415.0</font></td></tr><tr bgcolor=\"#f4f4ff\"><td align=\"center\"><font size=\"2\">4</font></td><td><font size=\"2\"><a href=\"./chart/?view=Actor&amp;id=morganfreeman.htm\"><b>Morgan Freeman</b></a></font></td><td align=\"right\"><font size=\"2\"><b>$4,470.5</b></font></td><td align=\"right\"><font size=\"2\">61</font></td><td align=\"right\"><font size=\"2\">$73.3</font></td><td align=\"center\"><font size=\"2\"><a href=\"/movies/?id=darkknight.htm\">The Dark Knight</a></font></td><td align=\"right\"><font size=\"2\">$534.9</font></td></tr></tbody></table>"
      ],
      "text/plain": [
       "<IPython.core.display.HTML object>"
      ]
     },
     "metadata": {},
     "output_type": "display_data"
    }
   ],
   "source": [
    "%%html\n",
    "<h4>People Table:</h4>\n",
    "<table cellspacing=\"1\" cellpadding=\"5\" border=\"0\" width=\"98%\"><tbody><tr bgcolor=\"#dcdcdc\"><td align=\"center\"><font size=\"2\">Row</font></td><td align=\"center\"><font size=\"2\"><a href=\"/people/?view=Actor&amp;sort=person&amp;order=ASC&amp;p=.htm\">Person<br>(Click to view)</a></font></td><td align=\"center\"><font size=\"2\"><a href=\"/people/?view=Actor&amp;sort=sumgross&amp;order=ASC&amp;p=.htm\"><b>Total Gross</b></a></font></td><td colspan=\"2\" align=\"center\"><font size=\"2\"><a href=\"/people/?view=Actor&amp;sort=nummovies&amp;order=DESC&amp;p=.htm\"># Movies</a> / </font><font size=\"2\"><a href=\"/people/?view=Actor&amp;sort=avggross&amp;order=DESC&amp;p=.htm\">Average</a></font></td><td align=\"center\"><font size=\"2\"><a href=\"/people/?view=Actor&amp;sort=title&amp;order=ASC&amp;p=.htm\">#1 Picture</a></font></td><td align=\"center\"><font size=\"2\"><a href=\"/people/?view=Actor&amp;sort=gross&amp;order=DESC&amp;p=.htm\">Gross</a></font></td></tr><tr bgcolor=\"#ffffff\"><td align=\"center\"><font size=\"2\">1</font></td><td><font size=\"2\"><a href=\"./chart/?view=Actor&amp;id=samuelljackson.htm\"><b>Samuel L. Jackson</b></a></font></td><td align=\"right\"><font size=\"2\"><b>$4,894.1</b></font></td><td align=\"right\"><font size=\"2\">71</font></td><td align=\"right\"><font size=\"2\">$68.9</font></td><td align=\"center\"><font size=\"2\"><a href=\"/movies/?id=avengers11.htm\">The Avengers</a></font></td><td align=\"right\"><font size=\"2\">$623.4</font></td></tr><tr bgcolor=\"#f4f4ff\"><td align=\"center\"><font size=\"2\">2</font></td><td><font size=\"2\"><a href=\"./chart/?view=Actor&amp;id=harrisonford.htm\"><b>Harrison Ford</b></a></font></td><td align=\"right\"><font size=\"2\"><b>$4,871.7</b></font></td><td align=\"right\"><font size=\"2\">41</font></td><td align=\"right\"><font size=\"2\">$118.8</font></td><td align=\"center\"><font size=\"2\"><a href=\"/movies/?id=starwars7.htm\">Star Wars: The Force Awakens</a></font></td><td align=\"right\"><font size=\"2\">$936.7</font></td></tr><tr bgcolor=\"#ffffff\"><td align=\"center\"><font size=\"2\">3</font></td><td><font size=\"2\"><a href=\"./chart/?view=Actor&amp;id=tomhanks.htm\"><b>Tom Hanks</b></a></font></td><td align=\"right\"><font size=\"2\"><b>$4,502.4</b></font></td><td align=\"right\"><font size=\"2\">46</font></td><td align=\"right\"><font size=\"2\">$97.9</font></td><td align=\"center\"><font size=\"2\"><a href=\"/movies/?id=toystory3.htm\">Toy Story 3</a></font></td><td align=\"right\"><font size=\"2\">$415.0</font></td></tr><tr bgcolor=\"#f4f4ff\"><td align=\"center\"><font size=\"2\">4</font></td><td><font size=\"2\"><a href=\"./chart/?view=Actor&amp;id=morganfreeman.htm\"><b>Morgan Freeman</b></a></font></td><td align=\"right\"><font size=\"2\"><b>$4,470.5</b></font></td><td align=\"right\"><font size=\"2\">61</font></td><td align=\"right\"><font size=\"2\">$73.3</font></td><td align=\"center\"><font size=\"2\"><a href=\"/movies/?id=darkknight.htm\">The Dark Knight</a></font></td><td align=\"right\"><font size=\"2\">$534.9</font></td></tr></tbody></table>"
   ]
  },
  {
   "cell_type": "code",
   "execution_count": 11,
   "metadata": {
    "collapsed": true
   },
   "outputs": [],
   "source": [
    "URL_ARTISTS = 'http://www.boxofficemojo.com/people/?view={0}&pagenum={1}&sort=sumgross&order=DESC'"
   ]
  },
  {
   "cell_type": "code",
   "execution_count": 12,
   "metadata": {
    "collapsed": true
   },
   "outputs": [],
   "source": [
    "def scrape_artists(role, verbose=False):\n",
    "    result = {}\n",
    "    \n",
    "    pageno = 1\n",
    "    done = False\n",
    "    while not done:\n",
    "        url = URL_ARTISTS.format(role, pageno)\n",
    "        soup = BeautifulSoup(get_page(url), 'lxml')\n",
    "        head = soup.find(text=re.compile('\\(Click to view\\)'))\n",
    "        if not head:\n",
    "            break\n",
    "\n",
    "        if verbose:\n",
    "            print(url)\n",
    "        done = True\n",
    "        for tr in head.findParent('table').contents[1:]: # exclude header\n",
    "            if tr != u'\\n':\n",
    "                name = tr.contents[2].text\n",
    "                avg_gross = tr.contents[8].text\n",
    "                result[name] = cvt_million(avg_gross)\n",
    "                done = False\n",
    " \n",
    "        pageno += 1\n",
    "\n",
    "    return result"
   ]
  },
  {
   "cell_type": "markdown",
   "metadata": {},
   "source": [
    "We'll scrape movie names, studio, genre, etc., from www.boxofficemojo.com.  \n",
    "The list of movies comes from the yearly box office table, and the other information from the detail pages."
   ]
  },
  {
   "cell_type": "code",
   "execution_count": 13,
   "metadata": {
    "collapsed": false
   },
   "outputs": [
    {
     "data": {
      "text/html": [
       "<h4>Box Office Table:</h4>\n",
       "<table><tr bgcolor=\"#ffffff\"><td align=\"center\"><font size=\"2\">Rank</font></td><td><font size=\"2\">Movie Title (click to view)</font></td><td><font size=\"2\">Studio</font></td><td align=\"right\"><font size=\"2\">Total Gross</font></td><td align=\"right\"><font size=\"2\">Theaters</font></td><td align=\"right\"><font size=\"2\">Opening Gross</font></td><td align=\"right\"><font size=\"2\">Theaters</font></td><td align=\"right\"><font size=\"2\">Open</a></font></td><td align=\"right\"><font size=\"2\">Close</font></td></tr><tr bgcolor=\"#ffffff\"><td align=\"center\"><font size=\"2\">1</font></td><td><b><font size=\"2\"><a href=\"/movies/?id=starwars2016.htm\">Rogue One: A Star Wars Story</a></font></b></td><td><font size=\"2\"><a href=\"/studio/chart/?studio=buenavista.htm\">BV</a></font></td><td align=\"right\"><font size=\"2\"><b>$506,908,563</b></font></td><td align=\"right\"><font size=\"2\">4,157</font></td><td align=\"right\"><font size=\"2\">$155,081,681</font></td><td align=\"right\"><font size=\"2\">4,157</font></td><td align=\"right\"><font size=\"2\"><a href=\"/schedule/?view=bydate&amp;release=theatrical&amp;date=2016-12-16&amp;p=.htm\">12/16</a></font></td><td align=\"right\"><font size=\"2\">-</font></td></tr><tr bgcolor=\"#f4f4ff\"><td align=\"center\"><font size=\"2\">2</font></td><td><b><font size=\"2\"><a href=\"/movies/?id=pixar2015.htm\">Finding Dory</a></font></b></td><td><font size=\"2\"><a href=\"/studio/chart/?studio=buenavista.htm\">BV</a></font></td><td align=\"right\"><font size=\"2\"><b>$486,295,561</b></font></td><td align=\"right\"><font size=\"2\">4,305</font></td><td align=\"right\"><font size=\"2\">$135,060,273</font></td><td align=\"right\"><font size=\"2\">4,305</font></td><td align=\"right\"><font size=\"2\"><a href=\"/schedule/?view=bydate&amp;release=theatrical&amp;date=2016-06-17&amp;p=.htm\">6/17</a></font></td><td align=\"right\"><font size=\"2\">12/8</font></td></tr><tr bgcolor=\"#ffffff\"><td align=\"center\"><font size=\"2\">3</font></td><td><b><font size=\"2\"><a href=\"/movies/?id=marvel2016.htm\">Captain America: Civil War</a></font></b></td><td><font size=\"2\"><a href=\"/studio/chart/?studio=buenavista.htm\">BV</a></font></td><td align=\"right\"><font size=\"2\"><b>$408,084,349</b></font></td><td align=\"right\"><font size=\"2\">4,226</font></td><td align=\"right\"><font size=\"2\">$179,139,142</font></td><td align=\"right\"><font size=\"2\">4,226</font></td><td align=\"right\"><font size=\"2\"><a href=\"/schedule/?view=bydate&amp;release=theatrical&amp;date=2016-05-06&amp;p=.htm\">5/6</a></font></td><td align=\"right\"><font size=\"2\">9/22</font></td></tr><table>\n",
       "<h4>Movie Detail Table:</h4>\n",
       "<table><tbody><tr bgcolor=\"#ffffff\"><td colspan=\"2\" align=\"center\"><font size=\"4\">Domestic Total Gross: <b>$24,252,420</b></font></td></tr><tr bgcolor=\"#ffffff\"><td valign=\"top\">Distributor: <b><a href=\"/studio/chart/?studio=universal.htm\">Universal</a></b></td><td valign=\"top\">Release Date: <b><nobr><a href=\"/schedule/?view=bydate&amp;release=theatrical&amp;date=2016-09-16&amp;p=.htm\">September 16, 2016</a></nobr></b></td></tr><tr bgcolor=\"#ffffff\"><td valign=\"top\">Genre: <b>Romantic Comedy</b></td><td valign=\"top\">Runtime: <b>2 hrs. 2 min.</b></td></tr><tr bgcolor=\"#ffffff\"><td valign=\"top\">MPAA Rating: <b>R</b></td><td valign=\"top\">Production Budget: <b>$35 million</b></td></tr></tbody></table>"
      ],
      "text/plain": [
       "<IPython.core.display.HTML object>"
      ]
     },
     "metadata": {},
     "output_type": "display_data"
    }
   ],
   "source": [
    "%%html\n",
    "<h4>Box Office Table:</h4>\n",
    "<table><tr bgcolor=\"#ffffff\"><td align=\"center\"><font size=\"2\">Rank</font></td><td><font size=\"2\">Movie Title (click to view)</font></td><td><font size=\"2\">Studio</font></td><td align=\"right\"><font size=\"2\">Total Gross</font></td><td align=\"right\"><font size=\"2\">Theaters</font></td><td align=\"right\"><font size=\"2\">Opening Gross</font></td><td align=\"right\"><font size=\"2\">Theaters</font></td><td align=\"right\"><font size=\"2\">Open</a></font></td><td align=\"right\"><font size=\"2\">Close</font></td></tr><tr bgcolor=\"#ffffff\"><td align=\"center\"><font size=\"2\">1</font></td><td><b><font size=\"2\"><a href=\"/movies/?id=starwars2016.htm\">Rogue One: A Star Wars Story</a></font></b></td><td><font size=\"2\"><a href=\"/studio/chart/?studio=buenavista.htm\">BV</a></font></td><td align=\"right\"><font size=\"2\"><b>$506,908,563</b></font></td><td align=\"right\"><font size=\"2\">4,157</font></td><td align=\"right\"><font size=\"2\">$155,081,681</font></td><td align=\"right\"><font size=\"2\">4,157</font></td><td align=\"right\"><font size=\"2\"><a href=\"/schedule/?view=bydate&amp;release=theatrical&amp;date=2016-12-16&amp;p=.htm\">12/16</a></font></td><td align=\"right\"><font size=\"2\">-</font></td></tr><tr bgcolor=\"#f4f4ff\"><td align=\"center\"><font size=\"2\">2</font></td><td><b><font size=\"2\"><a href=\"/movies/?id=pixar2015.htm\">Finding Dory</a></font></b></td><td><font size=\"2\"><a href=\"/studio/chart/?studio=buenavista.htm\">BV</a></font></td><td align=\"right\"><font size=\"2\"><b>$486,295,561</b></font></td><td align=\"right\"><font size=\"2\">4,305</font></td><td align=\"right\"><font size=\"2\">$135,060,273</font></td><td align=\"right\"><font size=\"2\">4,305</font></td><td align=\"right\"><font size=\"2\"><a href=\"/schedule/?view=bydate&amp;release=theatrical&amp;date=2016-06-17&amp;p=.htm\">6/17</a></font></td><td align=\"right\"><font size=\"2\">12/8</font></td></tr><tr bgcolor=\"#ffffff\"><td align=\"center\"><font size=\"2\">3</font></td><td><b><font size=\"2\"><a href=\"/movies/?id=marvel2016.htm\">Captain America: Civil War</a></font></b></td><td><font size=\"2\"><a href=\"/studio/chart/?studio=buenavista.htm\">BV</a></font></td><td align=\"right\"><font size=\"2\"><b>$408,084,349</b></font></td><td align=\"right\"><font size=\"2\">4,226</font></td><td align=\"right\"><font size=\"2\">$179,139,142</font></td><td align=\"right\"><font size=\"2\">4,226</font></td><td align=\"right\"><font size=\"2\"><a href=\"/schedule/?view=bydate&amp;release=theatrical&amp;date=2016-05-06&amp;p=.htm\">5/6</a></font></td><td align=\"right\"><font size=\"2\">9/22</font></td></tr><table>\n",
    "<h4>Movie Detail Table:</h4>\n",
    "<table><tbody><tr bgcolor=\"#ffffff\"><td colspan=\"2\" align=\"center\"><font size=\"4\">Domestic Total Gross: <b>$24,252,420</b></font></td></tr><tr bgcolor=\"#ffffff\"><td valign=\"top\">Distributor: <b><a href=\"/studio/chart/?studio=universal.htm\">Universal</a></b></td><td valign=\"top\">Release Date: <b><nobr><a href=\"/schedule/?view=bydate&amp;release=theatrical&amp;date=2016-09-16&amp;p=.htm\">September 16, 2016</a></nobr></b></td></tr><tr bgcolor=\"#ffffff\"><td valign=\"top\">Genre: <b>Romantic Comedy</b></td><td valign=\"top\">Runtime: <b>2 hrs. 2 min.</b></td></tr><tr bgcolor=\"#ffffff\"><td valign=\"top\">MPAA Rating: <b>R</b></td><td valign=\"top\">Production Budget: <b>$35 million</b></td></tr></tbody></table>"
   ]
  },
  {
   "cell_type": "code",
   "execution_count": 14,
   "metadata": {
    "collapsed": true
   },
   "outputs": [],
   "source": [
    "URL_MOVIES = 'http://www.boxofficemojo.com/yearly/chart/?view=releasedate&view2=domestic&yr={0:d}&page={1:d}'\n",
    "URL_DETAILS = 'http://www.boxofficemojo.com/movies/?id={0:s}'"
   ]
  },
  {
   "cell_type": "code",
   "execution_count": 15,
   "metadata": {
    "collapsed": false
   },
   "outputs": [],
   "source": [
    "def scrape_year(year, verbose=False):\n",
    "    result = []\n",
    "\n",
    "    pageno = 1\n",
    "    done = False\n",
    "    while not done:\n",
    "\n",
    "        url = URL_MOVIES.format(year, pageno)\n",
    "        soup = BeautifulSoup(get_page(url), 'lxml')\n",
    "        head = soup.find(text=re.compile('Movie Title \\(click to view\\)'))\n",
    "        if not head:\n",
    "            break\n",
    "            \n",
    "        if verbose:\n",
    "            print(url)\n",
    "            \n",
    "        done = True\n",
    "        for tr in head.findParent('table').contents[1:-4]: # exclude header and footer\n",
    "            name = tr.contents[1].text\n",
    "            gross = cvt_million(tr.contents[3].text)\n",
    "\n",
    "            href = tr.contents[1].find('a', href=re.compile('/movies'))['href']\n",
    "            id_ = href[href.rfind('=')+1:]\n",
    "            try:\n",
    "                details, artists = scrape_details(id_)\n",
    "                result.append([name, gross] + details + [artists])\n",
    "            except:\n",
    "                print('warning: error scraping \\'{0:s}\\' ({1:s})'.format(name, id_), \n",
    "                      file=sys.stderr)\n",
    "                pass\n",
    "            done = False\n",
    "\n",
    "        pageno = pageno + 1\n",
    "\n",
    "    return result\n",
    "\n",
    "def scrape_details(id_):\n",
    "    details = [float('nan')]*6\n",
    "    artists = {}\n",
    "    if id_:\n",
    "        url = URL_DETAILS.format(id_)\n",
    "        soup = BeautifulSoup(get_page(url), 'lxml')\n",
    "\n",
    "        rating = soup.find(text=re.compile('MPAA Rating:'))\n",
    "        if rating:\n",
    "            table = rating.findParent('table')\n",
    "            if table:\n",
    "                cells = [t.text for t in table.findAll('td')] # gross, studio, release date, genre, runtime, rating, budget\n",
    "                details = [cells[i][cells[i].rfind(':')+1:].strip() for i in [1, 3, 4, 5, 6]]\n",
    "                details[1] = cvt_genre(details[1])\n",
    "                details[2] = cvt_runtime(details[2])\n",
    "                details[3] = cvt_rating(details[3])\n",
    "                details[4] = cvt_million(details[4])\n",
    "                try:\n",
    "                    wwide = soup.find('b', text=re.compile('Worldwide:'))\n",
    "                    ww_gross = wwide.parent.parent.find_all('td')[1].text.strip()\n",
    "                    details.append(cvt_million(ww_gross))\n",
    "                except:\n",
    "                    details.append(float('nan'))\n",
    "                    pass\n",
    "\n",
    "        artist = soup.find(text=re.compile('Actor|Composer|Director|Producer|Writer'))\n",
    "        if artist:\n",
    "            artists = scrape_movie_artists(artist.findParent('table'), id_)\n",
    "\n",
    "    return (details, artists)\n",
    "\n",
    "def scrape_movie_artists(table, id_):\n",
    "    result = {}\n",
    "    if table:\n",
    "        for row in table.contents:\n",
    "            if 2 == len(row):\n",
    "                role = re.sub('s*: *$', '', row.contents[0].text)\n",
    "                name = []\n",
    "                for s in row.contents[1].strings:\n",
    "                    if name and (name[-1].endswith(' ') or s.string.startswith(' ')):\n",
    "                        name[-1] = name[-1] + s.string\n",
    "                    else:\n",
    "                        name.append(s.string)\n",
    "                result[role] = name\n",
    "\n",
    "        for s in [item for sublist in result.values() for item in sublist]:\n",
    "            if s.startswith('('):\n",
    "                print('warning: invalid name \\'{0:s}\\' in {1:s}'\n",
    "                      .format(s, id_), file=sys.stderr)\n",
    "    return result"
   ]
  },
  {
   "cell_type": "code",
   "execution_count": 16,
   "metadata": {
    "collapsed": false
   },
   "outputs": [],
   "source": [
    "def scrape_movies(years, verbose=False):\n",
    "    result = []\n",
    "    \n",
    "    movies = []\n",
    "    for y in years:\n",
    "        print('scraping {0}'.format(y))\n",
    "        movies.extend(scrape_year(y, verbose))\n",
    "\n",
    "    def rank(names, ranks):\n",
    "        return sum([ranks.get(re.sub('(\\*| \\().*$', '', name), 0) for name in names])\n",
    "\n",
    "    global _artists, _roles\n",
    "    for movie in movies:\n",
    "        names = movie[-1]\n",
    "        ranks = [rank(names.get(role, []), _artists[role]) for role in _roles]\n",
    "        result.append(movie[:-1] + ranks)\n",
    "\n",
    "    return result"
   ]
  },
  {
   "cell_type": "markdown",
   "metadata": {},
   "source": [
    "### Scrape artists and movies"
   ]
  },
  {
   "cell_type": "code",
   "execution_count": 17,
   "metadata": {
    "collapsed": true
   },
   "outputs": [],
   "source": [
    "data_range = range(2012, 2017)\n",
    "data_filename = 'movies_{}_to_{}.csv'.format(min(data_range), max(data_range))"
   ]
  },
  {
   "cell_type": "code",
   "execution_count": 18,
   "metadata": {
    "collapsed": false
   },
   "outputs": [
    {
     "name": "stdout",
     "output_type": "stream",
     "text": [
      "CPU times: user 15.4 s, sys: 524 ms, total: 16 s\n",
      "Wall time: 16.1 s\n"
     ]
    }
   ],
   "source": [
    "%%time\n",
    "_roles = ['Actor', 'Composer', 'Director', 'Producer', 'Writer']\n",
    "_artists = { role : scrape_artists(role) for role in _roles }"
   ]
  },
  {
   "cell_type": "code",
   "execution_count": 19,
   "metadata": {
    "collapsed": false,
    "scrolled": true
   },
   "outputs": [
    {
     "data": {
      "text/plain": [
       "[(u'Leonard Nimoy', 74.6),\n",
       " (u'Josh Hartnett', 37.7),\n",
       " (u'Shailene Woodley', 72.9),\n",
       " (u'Helena Bonham Carter', 78.4),\n",
       " (u'Patrick Wilson', 38.7)]"
      ]
     },
     "execution_count": 19,
     "metadata": {},
     "output_type": "execute_result"
    }
   ],
   "source": [
    "_artists['Actor'].items()[:5]"
   ]
  },
  {
   "cell_type": "code",
   "execution_count": 20,
   "metadata": {
    "collapsed": false
   },
   "outputs": [
    {
     "name": "stdout",
     "output_type": "stream",
     "text": [
      "scraping 2012\n",
      "http://www.boxofficemojo.com/yearly/chart/?view=releasedate&view2=domestic&yr=2012&page=1\n",
      "http://www.boxofficemojo.com/yearly/chart/?view=releasedate&view2=domestic&yr=2012&page=2\n",
      "http://www.boxofficemojo.com/yearly/chart/?view=releasedate&view2=domestic&yr=2012&page=3\n",
      "http://www.boxofficemojo.com/yearly/chart/?view=releasedate&view2=domestic&yr=2012&page=4\n",
      "http://www.boxofficemojo.com/yearly/chart/?view=releasedate&view2=domestic&yr=2012&page=5\n",
      "http://www.boxofficemojo.com/yearly/chart/?view=releasedate&view2=domestic&yr=2012&page=6\n",
      "http://www.boxofficemojo.com/yearly/chart/?view=releasedate&view2=domestic&yr=2012&page=7\n",
      "scraping 2013\n",
      "http://www.boxofficemojo.com/yearly/chart/?view=releasedate&view2=domestic&yr=2013&page=1\n",
      "http://www.boxofficemojo.com/yearly/chart/?view=releasedate&view2=domestic&yr=2013&page=2\n",
      "http://www.boxofficemojo.com/yearly/chart/?view=releasedate&view2=domestic&yr=2013&page=3\n",
      "http://www.boxofficemojo.com/yearly/chart/?view=releasedate&view2=domestic&yr=2013&page=4\n",
      "http://www.boxofficemojo.com/yearly/chart/?view=releasedate&view2=domestic&yr=2013&page=5\n",
      "http://www.boxofficemojo.com/yearly/chart/?view=releasedate&view2=domestic&yr=2013&page=6\n",
      "http://www.boxofficemojo.com/yearly/chart/?view=releasedate&view2=domestic&yr=2013&page=7\n",
      "scraping 2014\n",
      "http://www.boxofficemojo.com/yearly/chart/?view=releasedate&view2=domestic&yr=2014&page=1\n",
      "http://www.boxofficemojo.com/yearly/chart/?view=releasedate&view2=domestic&yr=2014&page=2\n",
      "http://www.boxofficemojo.com/yearly/chart/?view=releasedate&view2=domestic&yr=2014&page=3\n",
      "http://www.boxofficemojo.com/yearly/chart/?view=releasedate&view2=domestic&yr=2014&page=4\n",
      "http://www.boxofficemojo.com/yearly/chart/?view=releasedate&view2=domestic&yr=2014&page=5\n",
      "http://www.boxofficemojo.com/yearly/chart/?view=releasedate&view2=domestic&yr=2014&page=6\n",
      "http://www.boxofficemojo.com/yearly/chart/?view=releasedate&view2=domestic&yr=2014&page=7\n",
      "http://www.boxofficemojo.com/yearly/chart/?view=releasedate&view2=domestic&yr=2014&page=8\n",
      "scraping 2015\n",
      "http://www.boxofficemojo.com/yearly/chart/?view=releasedate&view2=domestic&yr=2015&page=1\n",
      "http://www.boxofficemojo.com/yearly/chart/?view=releasedate&view2=domestic&yr=2015&page=2\n",
      "http://www.boxofficemojo.com/yearly/chart/?view=releasedate&view2=domestic&yr=2015&page=3\n",
      "http://www.boxofficemojo.com/yearly/chart/?view=releasedate&view2=domestic&yr=2015&page=4\n",
      "http://www.boxofficemojo.com/yearly/chart/?view=releasedate&view2=domestic&yr=2015&page=5\n",
      "http://www.boxofficemojo.com/yearly/chart/?view=releasedate&view2=domestic&yr=2015&page=6\n",
      "http://www.boxofficemojo.com/yearly/chart/?view=releasedate&view2=domestic&yr=2015&page=7\n",
      "http://www.boxofficemojo.com/yearly/chart/?view=releasedate&view2=domestic&yr=2015&page=8\n",
      "scraping 2016\n",
      "http://www.boxofficemojo.com/yearly/chart/?view=releasedate&view2=domestic&yr=2016&page=1\n",
      "http://www.boxofficemojo.com/yearly/chart/?view=releasedate&view2=domestic&yr=2016&page=2\n",
      "http://www.boxofficemojo.com/yearly/chart/?view=releasedate&view2=domestic&yr=2016&page=3\n",
      "http://www.boxofficemojo.com/yearly/chart/?view=releasedate&view2=domestic&yr=2016&page=4\n",
      "http://www.boxofficemojo.com/yearly/chart/?view=releasedate&view2=domestic&yr=2016&page=5\n"
     ]
    },
    {
     "name": "stderr",
     "output_type": "stream",
     "text": [
      "warning: error scraping 'Like for Likes' (likeforlikes.htm)\n"
     ]
    },
    {
     "name": "stdout",
     "output_type": "stream",
     "text": [
      "http://www.boxofficemojo.com/yearly/chart/?view=releasedate&view2=domestic&yr=2016&page=6\n",
      "http://www.boxofficemojo.com/yearly/chart/?view=releasedate&view2=domestic&yr=2016&page=7\n",
      "http://www.boxofficemojo.com/yearly/chart/?view=releasedate&view2=domestic&yr=2016&page=8\n",
      "CPU times: user 1min 2s, sys: 25.8 s, total: 1min 28s\n",
      "Wall time: 1min 38s\n"
     ]
    }
   ],
   "source": [
    "%%time\n",
    "movies = scrape_movies(data_range, True)"
   ]
  },
  {
   "cell_type": "code",
   "execution_count": 21,
   "metadata": {
    "collapsed": false
   },
   "outputs": [],
   "source": [
    "df_raw = pd.DataFrame(movies, columns = \\\n",
    "    ['name', 'us_gross', 'studio', 'genre', 'runtime', 'rating', 'budget', 'ww_gross',\n",
    "     'actor', 'composer', 'director', 'producer', 'writer'])"
   ]
  },
  {
   "cell_type": "code",
   "execution_count": 22,
   "metadata": {
    "collapsed": false
   },
   "outputs": [
    {
     "name": "stdout",
     "output_type": "stream",
     "text": [
      "<class 'pandas.core.frame.DataFrame'>\n",
      "RangeIndex: 3494 entries, 0 to 3493\n",
      "Data columns (total 13 columns):\n",
      "name        3494 non-null object\n",
      "us_gross    3494 non-null float64\n",
      "studio      3491 non-null object\n",
      "genre       3491 non-null object\n",
      "runtime     3367 non-null float64\n",
      "rating      3491 non-null object\n",
      "budget      578 non-null float64\n",
      "ww_gross    1968 non-null float64\n",
      "actor       3482 non-null float64\n",
      "composer    3494 non-null float64\n",
      "director    3447 non-null float64\n",
      "producer    3478 non-null float64\n",
      "writer      3456 non-null float64\n",
      "dtypes: float64(9), object(4)\n",
      "memory usage: 354.9+ KB\n"
     ]
    },
    {
     "data": {
      "text/html": [
       "<div>\n",
       "<table border=\"1\" class=\"dataframe\">\n",
       "  <thead>\n",
       "    <tr style=\"text-align: right;\">\n",
       "      <th></th>\n",
       "      <th>name</th>\n",
       "      <th>us_gross</th>\n",
       "      <th>studio</th>\n",
       "      <th>genre</th>\n",
       "      <th>runtime</th>\n",
       "      <th>rating</th>\n",
       "      <th>budget</th>\n",
       "      <th>ww_gross</th>\n",
       "      <th>actor</th>\n",
       "      <th>composer</th>\n",
       "      <th>director</th>\n",
       "      <th>producer</th>\n",
       "      <th>writer</th>\n",
       "    </tr>\n",
       "  </thead>\n",
       "  <tbody>\n",
       "    <tr>\n",
       "      <th>0</th>\n",
       "      <td>Marvel's The Avengers</td>\n",
       "      <td>623.358</td>\n",
       "      <td>Buena Vista</td>\n",
       "      <td>action_adventure</td>\n",
       "      <td>142.0</td>\n",
       "      <td>pg13</td>\n",
       "      <td>220.0</td>\n",
       "      <td>1518.813</td>\n",
       "      <td>1060.1</td>\n",
       "      <td>75.7</td>\n",
       "      <td>278.1</td>\n",
       "      <td>1829.4</td>\n",
       "      <td>269.9</td>\n",
       "    </tr>\n",
       "    <tr>\n",
       "      <th>1</th>\n",
       "      <td>The Dark Knight Rises</td>\n",
       "      <td>448.139</td>\n",
       "      <td>Warner Bros.</td>\n",
       "      <td>action_adventure</td>\n",
       "      <td>165.0</td>\n",
       "      <td>pg13</td>\n",
       "      <td>250.0</td>\n",
       "      <td>1084.939</td>\n",
       "      <td>750.2</td>\n",
       "      <td>95.1</td>\n",
       "      <td>181.7</td>\n",
       "      <td>678.9</td>\n",
       "      <td>359.0</td>\n",
       "    </tr>\n",
       "    <tr>\n",
       "      <th>2</th>\n",
       "      <td>The Hunger Games</td>\n",
       "      <td>408.011</td>\n",
       "      <td>Lionsgate</td>\n",
       "      <td>action_adventure</td>\n",
       "      <td>142.0</td>\n",
       "      <td>pg13</td>\n",
       "      <td>78.0</td>\n",
       "      <td>694.395</td>\n",
       "      <td>868.1</td>\n",
       "      <td>73.2</td>\n",
       "      <td>147.4</td>\n",
       "      <td>762.2</td>\n",
       "      <td>583.5</td>\n",
       "    </tr>\n",
       "    <tr>\n",
       "      <th>3</th>\n",
       "      <td>Skyfall</td>\n",
       "      <td>304.360</td>\n",
       "      <td>Sony / Columbia</td>\n",
       "      <td>action_adventure</td>\n",
       "      <td>143.0</td>\n",
       "      <td>pg13</td>\n",
       "      <td>200.0</td>\n",
       "      <td>1108.561</td>\n",
       "      <td>370.6</td>\n",
       "      <td>53.1</td>\n",
       "      <td>119.1</td>\n",
       "      <td>290.6</td>\n",
       "      <td>310.4</td>\n",
       "    </tr>\n",
       "    <tr>\n",
       "      <th>4</th>\n",
       "      <td>The Hobbit: An Unexpected Journey</td>\n",
       "      <td>303.004</td>\n",
       "      <td>Warner Bros. (New Line)</td>\n",
       "      <td>scifi_fantasy</td>\n",
       "      <td>166.0</td>\n",
       "      <td>pg13</td>\n",
       "      <td>NaN</td>\n",
       "      <td>1021.104</td>\n",
       "      <td>827.3</td>\n",
       "      <td>65.6</td>\n",
       "      <td>177.9</td>\n",
       "      <td>410.7</td>\n",
       "      <td>822.7</td>\n",
       "    </tr>\n",
       "  </tbody>\n",
       "</table>\n",
       "</div>"
      ],
      "text/plain": [
       "                                name  us_gross                   studio  \\\n",
       "0              Marvel's The Avengers   623.358              Buena Vista   \n",
       "1              The Dark Knight Rises   448.139             Warner Bros.   \n",
       "2                   The Hunger Games   408.011                Lionsgate   \n",
       "3                            Skyfall   304.360          Sony / Columbia   \n",
       "4  The Hobbit: An Unexpected Journey   303.004  Warner Bros. (New Line)   \n",
       "\n",
       "              genre  runtime rating  budget  ww_gross   actor  composer  \\\n",
       "0  action_adventure    142.0   pg13   220.0  1518.813  1060.1      75.7   \n",
       "1  action_adventure    165.0   pg13   250.0  1084.939   750.2      95.1   \n",
       "2  action_adventure    142.0   pg13    78.0   694.395   868.1      73.2   \n",
       "3  action_adventure    143.0   pg13   200.0  1108.561   370.6      53.1   \n",
       "4     scifi_fantasy    166.0   pg13     NaN  1021.104   827.3      65.6   \n",
       "\n",
       "   director  producer  writer  \n",
       "0     278.1    1829.4   269.9  \n",
       "1     181.7     678.9   359.0  \n",
       "2     147.4     762.2   583.5  \n",
       "3     119.1     290.6   310.4  \n",
       "4     177.9     410.7   822.7  "
      ]
     },
     "execution_count": 22,
     "metadata": {},
     "output_type": "execute_result"
    }
   ],
   "source": [
    "df_raw.info()\n",
    "df_raw.head()"
   ]
  },
  {
   "cell_type": "markdown",
   "metadata": {},
   "source": [
    "#### Drop re-releases"
   ]
  },
  {
   "cell_type": "code",
   "execution_count": 23,
   "metadata": {
    "collapsed": false
   },
   "outputs": [],
   "source": [
    "df = df_raw.copy()"
   ]
  },
  {
   "cell_type": "code",
   "execution_count": 24,
   "metadata": {
    "collapsed": false
   },
   "outputs": [],
   "source": [
    "df = df[~df.name.str.contains('re-release')].copy()"
   ]
  },
  {
   "cell_type": "markdown",
   "metadata": {},
   "source": [
    "#### Set missing Worldwide gross numbers to USA gross"
   ]
  },
  {
   "cell_type": "code",
   "execution_count": 25,
   "metadata": {
    "collapsed": false
   },
   "outputs": [],
   "source": [
    "df.ww_gross = np.where(df.ww_gross == 0, df['us_gross'], df['ww_gross'])"
   ]
  },
  {
   "cell_type": "markdown",
   "metadata": {},
   "source": [
    "### Scrape budgets"
   ]
  },
  {
   "cell_type": "markdown",
   "metadata": {},
   "source": [
    "Boxofficemojo doesn't have budget numbers for most films:"
   ]
  },
  {
   "cell_type": "code",
   "execution_count": 26,
   "metadata": {
    "collapsed": false
   },
   "outputs": [
    {
     "name": "stdout",
     "output_type": "stream",
     "text": [
      "578 (16.88%) of 3424 have budget\n"
     ]
    }
   ],
   "source": [
    "total = len(df)\n",
    "with_budget = len(df[~df.budget.isnull()])\n",
    "print('{0} ({2:.2%}) of {1} have budget'.format(with_budget, total, float(with_budget) / total))"
   ]
  },
  {
   "cell_type": "markdown",
   "metadata": {},
   "source": [
    "We'll some budget numbers from the-numbers.com. This is quick because it has all the information in one table:"
   ]
  },
  {
   "cell_type": "code",
   "execution_count": 27,
   "metadata": {
    "collapsed": false
   },
   "outputs": [
    {
     "data": {
      "text/html": [
       "<table><tbody><tr><th>&nbsp;</th><th>Release Date</th><th>Movie</th><th>Production Budget</th><th>Domestic Gross</th><th>Worldwide Gross</th></tr><tr><td class=\"data\">1</td><td><a href=\"/box-office-chart/daily/2009/12/18\">12/18/2009</a></td><td><b><a href=\"/movie/Avatar#tab=summary\">Avatar</a></b></td><td class=\"data\">$425,000,000</td><td class=\"data\">$760,507,625</td><td class=\"data\">$2,783,918,982</td></tr><tr></tr><tr><td class=\"data\">2</td><td><a href=\"/box-office-chart/daily/2015/12/18\">12/18/2015</a></td><td><b><a href=\"/movie/Star-Wars-Ep-VII-The-Force-Awakens#tab=summary\">Star Wars Ep. VII: The Force Awakens</a></b></td><td class=\"data\">$306,000,000</td><td class=\"data\">$936,662,225</td><td class=\"data\">$2,058,662,225</td></tr><tr></tr><tr><td class=\"data\">3</td><td><a href=\"/box-office-chart/daily/2007/05/24\">5/24/2007</a></td><td><b><a href=\"/movie/Pirates-of-the-Caribbean-At-Worlds-End#tab=summary\">Pirates of the Caribbean: At World's End</a></b></td><td class=\"data\">$300,000,000</td><td class=\"data\">$309,420,425</td><td class=\"data\">$963,420,425</td></tr></tbody></table>"
      ],
      "text/plain": [
       "<IPython.core.display.HTML object>"
      ]
     },
     "metadata": {},
     "output_type": "display_data"
    }
   ],
   "source": [
    "%%html\n",
    "<table><tbody><tr><th>&nbsp;</th><th>Release Date</th><th>Movie</th><th>Production Budget</th><th>Domestic Gross</th><th>Worldwide Gross</th></tr><tr><td class=\"data\">1</td><td><a href=\"/box-office-chart/daily/2009/12/18\">12/18/2009</a></td><td><b><a href=\"/movie/Avatar#tab=summary\">Avatar</a></b></td><td class=\"data\">$425,000,000</td><td class=\"data\">$760,507,625</td><td class=\"data\">$2,783,918,982</td></tr><tr></tr><tr><td class=\"data\">2</td><td><a href=\"/box-office-chart/daily/2015/12/18\">12/18/2015</a></td><td><b><a href=\"/movie/Star-Wars-Ep-VII-The-Force-Awakens#tab=summary\">Star Wars Ep. VII: The Force Awakens</a></b></td><td class=\"data\">$306,000,000</td><td class=\"data\">$936,662,225</td><td class=\"data\">$2,058,662,225</td></tr><tr></tr><tr><td class=\"data\">3</td><td><a href=\"/box-office-chart/daily/2007/05/24\">5/24/2007</a></td><td><b><a href=\"/movie/Pirates-of-the-Caribbean-At-Worlds-End#tab=summary\">Pirates of the Caribbean: At World's End</a></b></td><td class=\"data\">$300,000,000</td><td class=\"data\">$309,420,425</td><td class=\"data\">$963,420,425</td></tr></tbody></table>"
   ]
  },
  {
   "cell_type": "code",
   "execution_count": 28,
   "metadata": {
    "collapsed": true
   },
   "outputs": [],
   "source": [
    "URL_THENUMBERS_BUDGETS = 'http://www.the-numbers.com/movie/budgets/all'"
   ]
  },
  {
   "cell_type": "code",
   "execution_count": 29,
   "metadata": {
    "collapsed": false
   },
   "outputs": [],
   "source": [
    "def scrape_thenumbers_budgets(target_years):\n",
    "    d = {}\n",
    "\n",
    "    url = URL_THENUMBERS_BUDGETS\n",
    "    soup = BeautifulSoup(get_page(url), 'lxml')\n",
    "    head = soup.find(text=re.compile('Release Date'))\n",
    "    if head:\n",
    "        table = head.findParent('table')\n",
    "        if table:\n",
    "            for tr in table.findAll('tr')[1:]: # skip header row\n",
    "                contents = filter(lambda t: t != u'\\n', tr.contents)\n",
    "                if 6 != len(contents):\n",
    "                    continue\n",
    "\n",
    "                date, name = (contents[i].text for i in [1, 2])\n",
    "                year = int(date[date.rfind('/')+1:])\n",
    "                if not year in target_years and not target_years == None:\n",
    "                    continue\n",
    "\n",
    "                budget = cvt_million(contents[3].text)\n",
    "                if not budget:\n",
    "                    continue\n",
    "\n",
    "                d[name] = budget\n",
    "    return d\n",
    "\n",
    "def set_budgets_old(df, dict_):\n",
    "    def set_budget(row, dict_):\n",
    "        name = row['name']\n",
    "        return dict_[name] if name in dict_ else row['budget']\n",
    "    df['budget'] = df.apply(set_budget, axis=1, args=(dict_,))\n",
    "\n",
    "def set_budgets(df, dict_):\n",
    "    df.budget = [dict_.get(name, budget) for name, budget in zip(df.name, df.budget)]\n"
   ]
  },
  {
   "cell_type": "markdown",
   "metadata": {},
   "source": [
    "We'll get more budget numbers from IMDB. This is slow. We have to search for each movie, scrape the results page for the movie's id, then get the budget from the movie page."
   ]
  },
  {
   "cell_type": "code",
   "execution_count": 30,
   "metadata": {
    "collapsed": true
   },
   "outputs": [],
   "source": [
    "URL_IMDB_SEARCH = 'http://www.imdb.com/find?q={0:s}&exact=true'\n",
    "URL_IMDB_BUSINESS = 'http://www.imdb.com/title/{0:s}/business'"
   ]
  },
  {
   "cell_type": "code",
   "execution_count": 31,
   "metadata": {
    "collapsed": false
   },
   "outputs": [],
   "source": [
    "def scrape_imdb_budgets(names, verbose=False):\n",
    "    d = {}\n",
    "\n",
    "    for name in names:\n",
    "        id_ = ''\n",
    "        try:\n",
    "            url = URL_IMDB_SEARCH.format(urllib.quote(name))\n",
    "            soup = BeautifulSoup(get_page(url), 'lxml')\n",
    "            if not soup:\n",
    "                continue\n",
    "\n",
    "            tag = soup.find(attrs={'name' : 'tt'})\n",
    "            if not tag or not tag.parent:\n",
    "                continue\n",
    "            \n",
    "            table = tag.parent.findNextSibling()\n",
    "            if not table:\n",
    "                continue\n",
    "\n",
    "            for result in table.findAll(class_='result_text'):\n",
    "                if not 'TV Episode' in result.text:\n",
    "                    href = result.find('a')['href']\n",
    "                    id_ = href.split('/')[2]\n",
    "                    break\n",
    "\n",
    "            if not id_:\n",
    "                continue\n",
    "\n",
    "            url = URL_IMDB_BUSINESS.format(id_)\n",
    "            soup = BeautifulSoup(get_page(url), 'lxml')\n",
    "            if not soup:\n",
    "                continue\n",
    "\n",
    "            tag = soup.find(text=re.compile('Budget'))\n",
    "            if not tag or not tag.next:\n",
    "                continue\n",
    "\n",
    "            m = re.search('(\\$[0-9,]+)', tag.next)\n",
    "            if not m:\n",
    "                if verbose:\n",
    "                    print(u'warning: unrecognized budget {2:s} for \\'{0:s}\\' ({1:s})'\n",
    "                          .format(name, id_, tag.next.strip()))\n",
    "                continue\n",
    "\n",
    "            d[name] = cvt_million(m.group(1))\n",
    "        except requests.HTTPError:\n",
    "            print(u'warning: error scraping \\'{0:s}\\' ({1:s})'.format(name, id_), \n",
    "                file=sys.stderr)\n",
    "            pass\n",
    "\n",
    "\n",
    "    return d"
   ]
  },
  {
   "cell_type": "markdown",
   "metadata": {},
   "source": [
    "#### Scrape budgets from the-numbers.com"
   ]
  },
  {
   "cell_type": "code",
   "execution_count": 32,
   "metadata": {
    "collapsed": false
   },
   "outputs": [
    {
     "name": "stdout",
     "output_type": "stream",
     "text": [
      "CPU times: user 4.92 s, sys: 576 ms, total: 5.5 s\n",
      "Wall time: 5.54 s\n"
     ]
    }
   ],
   "source": [
    "%%time\n",
    "d = scrape_thenumbers_budgets(data_range)\n",
    "set_budgets(df, d)\n",
    "#pp_dict(d)"
   ]
  },
  {
   "cell_type": "code",
   "execution_count": 33,
   "metadata": {
    "collapsed": false
   },
   "outputs": [
    {
     "name": "stdout",
     "output_type": "stream",
     "text": [
      "855 (24.97%) of 3424 have budget\n"
     ]
    }
   ],
   "source": [
    "total = len(df)\n",
    "with_budget = len(df[~df.budget.isnull()])\n",
    "print('{0} ({2:.2%}) of {1} have budget'.format(with_budget, total, float(with_budget) / total))"
   ]
  },
  {
   "cell_type": "markdown",
   "metadata": {},
   "source": [
    "#### Scrape budgets from imdb.com"
   ]
  },
  {
   "cell_type": "code",
   "execution_count": 34,
   "metadata": {
    "collapsed": false
   },
   "outputs": [
    {
     "name": "stdout",
     "output_type": "stream",
     "text": [
      "CPU times: user 2min 37s, sys: 3.59 s, total: 2min 40s\n",
      "Wall time: 2min 49s\n"
     ]
    }
   ],
   "source": [
    "%%time\n",
    "names = [s.encode('utf-8') for s in df[df.budget.isnull()].name.values]\n",
    "d = scrape_imdb_budgets(names)\n",
    "set_budgets(df, d)\n",
    "#pp_dict(d)"
   ]
  },
  {
   "cell_type": "code",
   "execution_count": 35,
   "metadata": {
    "collapsed": false
   },
   "outputs": [
    {
     "name": "stdout",
     "output_type": "stream",
     "text": [
      "1306 (38.14%) of 3424 have budget\n"
     ]
    }
   ],
   "source": [
    "total = len(df)\n",
    "with_budget = len(df[~df.budget.isnull()])\n",
    "print('{0} ({2:.2%}) of {1} have budget'.format(with_budget, total, float(with_budget) / total))"
   ]
  },
  {
   "cell_type": "markdown",
   "metadata": {},
   "source": [
    "### Save the data"
   ]
  },
  {
   "cell_type": "code",
   "execution_count": 36,
   "metadata": {
    "collapsed": false
   },
   "outputs": [],
   "source": [
    "df.to_csv(data_filename, encoding='utf-8', index=False)"
   ]
  },
  {
   "cell_type": "markdown",
   "metadata": {},
   "source": [
    "### Inspect the data"
   ]
  },
  {
   "cell_type": "code",
   "execution_count": 37,
   "metadata": {
    "collapsed": false
   },
   "outputs": [],
   "source": [
    "df = pd.read_csv(data_filename, encoding='utf-8', index_col=None)"
   ]
  },
  {
   "cell_type": "code",
   "execution_count": 38,
   "metadata": {
    "collapsed": true
   },
   "outputs": [],
   "source": [
    "columns = ['name', 'budget', 'ww_gross', 'actor', 'director', 'producer', 'writer', 'genre', 'rating']"
   ]
  },
  {
   "cell_type": "code",
   "execution_count": 39,
   "metadata": {
    "collapsed": false
   },
   "outputs": [
    {
     "data": {
      "text/html": [
       "<div>\n",
       "<table border=\"1\" class=\"dataframe\">\n",
       "  <thead>\n",
       "    <tr style=\"text-align: right;\">\n",
       "      <th></th>\n",
       "      <th>name</th>\n",
       "      <th>budget</th>\n",
       "      <th>ww_gross</th>\n",
       "      <th>actor</th>\n",
       "      <th>director</th>\n",
       "      <th>producer</th>\n",
       "      <th>writer</th>\n",
       "      <th>genre</th>\n",
       "      <th>rating</th>\n",
       "    </tr>\n",
       "  </thead>\n",
       "  <tbody>\n",
       "    <tr>\n",
       "      <th>774</th>\n",
       "      <td>The Last Exorcism Part II</td>\n",
       "      <td>4.0</td>\n",
       "      <td>15.179</td>\n",
       "      <td>28.1</td>\n",
       "      <td>7.6</td>\n",
       "      <td>78.8</td>\n",
       "      <td>39.3</td>\n",
       "      <td>horror</td>\n",
       "      <td>pg13</td>\n",
       "    </tr>\n",
       "    <tr>\n",
       "      <th>2086</th>\n",
       "      <td>The Boy Next Door</td>\n",
       "      <td>4.0</td>\n",
       "      <td>52.426</td>\n",
       "      <td>120.5</td>\n",
       "      <td>53.2</td>\n",
       "      <td>59.4</td>\n",
       "      <td>35.4</td>\n",
       "      <td>drama</td>\n",
       "      <td>r</td>\n",
       "    </tr>\n",
       "    <tr>\n",
       "      <th>69</th>\n",
       "      <td>Sinister</td>\n",
       "      <td>3.0</td>\n",
       "      <td>77.712</td>\n",
       "      <td>17.4</td>\n",
       "      <td>92.9</td>\n",
       "      <td>70.7</td>\n",
       "      <td>221.1</td>\n",
       "      <td>horror</td>\n",
       "      <td>r</td>\n",
       "    </tr>\n",
       "    <tr>\n",
       "      <th>704</th>\n",
       "      <td>The Purge</td>\n",
       "      <td>3.0</td>\n",
       "      <td>89.329</td>\n",
       "      <td>42.6</td>\n",
       "      <td>68.2</td>\n",
       "      <td>286.6</td>\n",
       "      <td>43.4</td>\n",
       "      <td>drama</td>\n",
       "      <td>r</td>\n",
       "    </tr>\n",
       "    <tr>\n",
       "      <th>802</th>\n",
       "      <td>The Company You Keep</td>\n",
       "      <td>2.0</td>\n",
       "      <td>19.633</td>\n",
       "      <td>452.0</td>\n",
       "      <td>30.5</td>\n",
       "      <td>5.1</td>\n",
       "      <td>20.0</td>\n",
       "      <td>drama</td>\n",
       "      <td>r</td>\n",
       "    </tr>\n",
       "    <tr>\n",
       "      <th>772</th>\n",
       "      <td>Fruitvale Station</td>\n",
       "      <td>0.9</td>\n",
       "      <td>17.386</td>\n",
       "      <td>140.9</td>\n",
       "      <td>62.9</td>\n",
       "      <td>16.1</td>\n",
       "      <td>62.9</td>\n",
       "      <td>drama</td>\n",
       "      <td>r</td>\n",
       "    </tr>\n",
       "  </tbody>\n",
       "</table>\n",
       "</div>"
      ],
      "text/plain": [
       "                           name  budget  ww_gross  actor  director  producer  \\\n",
       "774   The Last Exorcism Part II     4.0    15.179   28.1       7.6      78.8   \n",
       "2086          The Boy Next Door     4.0    52.426  120.5      53.2      59.4   \n",
       "69                     Sinister     3.0    77.712   17.4      92.9      70.7   \n",
       "704                   The Purge     3.0    89.329   42.6      68.2     286.6   \n",
       "802        The Company You Keep     2.0    19.633  452.0      30.5       5.1   \n",
       "772           Fruitvale Station     0.9    17.386  140.9      62.9      16.1   \n",
       "\n",
       "      writer   genre rating  \n",
       "774     39.3  horror   pg13  \n",
       "2086    35.4   drama      r  \n",
       "69     221.1  horror      r  \n",
       "704     43.4   drama      r  \n",
       "802     20.0   drama      r  \n",
       "772     62.9   drama      r  "
      ]
     },
     "execution_count": 39,
     "metadata": {},
     "output_type": "execute_result"
    }
   ],
   "source": [
    "df2 = df[(df.T > 0).all()].copy()\n",
    "df2[(df2.budget<5)&(df2.ww_gross>10)][columns].sort_values(by='budget', ascending=False)"
   ]
  },
  {
   "cell_type": "code",
   "execution_count": 40,
   "metadata": {
    "collapsed": false
   },
   "outputs": [
    {
     "data": {
      "text/html": [
       "<div>\n",
       "<table border=\"1\" class=\"dataframe\">\n",
       "  <thead>\n",
       "    <tr style=\"text-align: right;\">\n",
       "      <th></th>\n",
       "      <th>name</th>\n",
       "      <th>budget</th>\n",
       "      <th>ww_gross</th>\n",
       "      <th>actor</th>\n",
       "      <th>director</th>\n",
       "      <th>producer</th>\n",
       "      <th>writer</th>\n",
       "      <th>genre</th>\n",
       "      <th>rating</th>\n",
       "    </tr>\n",
       "  </thead>\n",
       "  <tbody>\n",
       "    <tr>\n",
       "      <th>0</th>\n",
       "      <td>Marvel's The Avengers</td>\n",
       "      <td>220.0</td>\n",
       "      <td>1518.813</td>\n",
       "      <td>1060.1</td>\n",
       "      <td>278.1</td>\n",
       "      <td>1829.4</td>\n",
       "      <td>269.9</td>\n",
       "      <td>action_adventure</td>\n",
       "      <td>pg13</td>\n",
       "    </tr>\n",
       "    <tr>\n",
       "      <th>2015</th>\n",
       "      <td>Star Wars: The Force Awakens</td>\n",
       "      <td>245.0</td>\n",
       "      <td>2068.224</td>\n",
       "      <td>3271.9</td>\n",
       "      <td>336.8</td>\n",
       "      <td>525.4</td>\n",
       "      <td>702.7</td>\n",
       "      <td>scifi_fantasy</td>\n",
       "      <td>pg13</td>\n",
       "    </tr>\n",
       "    <tr>\n",
       "      <th>2016</th>\n",
       "      <td>Jurassic World</td>\n",
       "      <td>215.0</td>\n",
       "      <td>1670.401</td>\n",
       "      <td>679.2</td>\n",
       "      <td>328.1</td>\n",
       "      <td>588.6</td>\n",
       "      <td>1296.0</td>\n",
       "      <td>action_adventure</td>\n",
       "      <td>pg13</td>\n",
       "    </tr>\n",
       "    <tr>\n",
       "      <th>2017</th>\n",
       "      <td>Avengers: Age of Ultron</td>\n",
       "      <td>250.0</td>\n",
       "      <td>1405.404</td>\n",
       "      <td>1378.2</td>\n",
       "      <td>278.1</td>\n",
       "      <td>1715.4</td>\n",
       "      <td>151.3</td>\n",
       "      <td>action_adventure</td>\n",
       "      <td>pg13</td>\n",
       "    </tr>\n",
       "    <tr>\n",
       "      <th>2019</th>\n",
       "      <td>Furious 7</td>\n",
       "      <td>190.0</td>\n",
       "      <td>1516.046</td>\n",
       "      <td>1058.1</td>\n",
       "      <td>101.7</td>\n",
       "      <td>357.7</td>\n",
       "      <td>153.0</td>\n",
       "      <td>action_adventure</td>\n",
       "      <td>pg13</td>\n",
       "    </tr>\n",
       "  </tbody>\n",
       "</table>\n",
       "</div>"
      ],
      "text/plain": [
       "                              name  budget  ww_gross   actor  director  \\\n",
       "0            Marvel's The Avengers   220.0  1518.813  1060.1     278.1   \n",
       "2015  Star Wars: The Force Awakens   245.0  2068.224  3271.9     336.8   \n",
       "2016                Jurassic World   215.0  1670.401   679.2     328.1   \n",
       "2017       Avengers: Age of Ultron   250.0  1405.404  1378.2     278.1   \n",
       "2019                     Furious 7   190.0  1516.046  1058.1     101.7   \n",
       "\n",
       "      producer  writer             genre rating  \n",
       "0       1829.4   269.9  action_adventure   pg13  \n",
       "2015     525.4   702.7     scifi_fantasy   pg13  \n",
       "2016     588.6  1296.0  action_adventure   pg13  \n",
       "2017    1715.4   151.3  action_adventure   pg13  \n",
       "2019     357.7   153.0  action_adventure   pg13  "
      ]
     },
     "execution_count": 40,
     "metadata": {},
     "output_type": "execute_result"
    }
   ],
   "source": [
    "df2[df2.ww_gross>1400][columns]"
   ]
  },
  {
   "cell_type": "code",
   "execution_count": null,
   "metadata": {
    "collapsed": true
   },
   "outputs": [],
   "source": []
  }
 ],
 "metadata": {
  "anaconda-cloud": {},
  "kernelspec": {
   "display_name": "Python [default]",
   "language": "python",
   "name": "python2"
  },
  "language_info": {
   "codemirror_mode": {
    "name": "ipython",
    "version": 2
   },
   "file_extension": ".py",
   "mimetype": "text/x-python",
   "name": "python",
   "nbconvert_exporter": "python",
   "pygments_lexer": "ipython2",
   "version": "2.7.12"
  }
 },
 "nbformat": 4,
 "nbformat_minor": 1
}
