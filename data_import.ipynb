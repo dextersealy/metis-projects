{
 "cells": [
  {
   "cell_type": "markdown",
   "metadata": {},
   "source": [
    "## Objective"
   ]
  },
  {
   "cell_type": "markdown",
   "metadata": {},
   "source": [
    "#### How much interest will a new rental listing on RentHop receive?\n",
    "\n",
    "In this <a href='https://www.kaggle.com/c/two-sigma-connect-rental-listing-inquiries/data'>competition</a>, you will predict how popular an apartment rental listing is based on the listing content like text description, photos, number of bedrooms, price, etc. The data comes from renthop.com, an apartment listing website. These apartments are located in New York City."
   ]
  },
  {
   "cell_type": "markdown",
   "metadata": {},
   "source": [
    "### File descriptions\n",
    "\n",
    "- **```train.json```** - the training set\n",
    "- **```test.json```** - the test set\n"
   ]
  },
  {
   "cell_type": "markdown",
   "metadata": {},
   "source": [
    "### Data fields\n",
    "\n",
    "- **```bathrooms:```** number of bathrooms\n",
    "- **```bedrooms:```** number of bathrooms\n",
    "- **```building_id```**\n",
    "- **```created```**\n",
    "- **```description```**\n",
    "- **```display_address```**\n",
    "- **```features:```** a list of features about this apartment\n",
    "- **```latitude```**\n",
    "- **```listing_id```**\n",
    "- **```longitude```**\n",
    "- **```manager_id```**\n",
    "- **```photos:```** a list of photo links. You are welcome to download the pictures yourselves from renthop's site, but they are the same as imgs.zip. \n",
    "- **```price:```** in USD\n",
    "- **```street_address```**\n",
    "- **```interest_level:```** this is the target variable. It has 3 categories: 'high', 'medium', 'low'\n"
   ]
  },
  {
   "cell_type": "markdown",
   "metadata": {},
   "source": [
    "## Import data"
   ]
  },
  {
   "cell_type": "code",
   "execution_count": 2,
   "metadata": {
    "collapsed": true
   },
   "outputs": [],
   "source": [
    "from __future__ import print_function, division"
   ]
  },
  {
   "cell_type": "code",
   "execution_count": 3,
   "metadata": {
    "collapsed": true
   },
   "outputs": [],
   "source": [
    "# %load pp_tools.py\n",
    "from IPython.display import display, HTML\n",
    "\n",
    "def pp_dict(d):\n",
    "    display(HTML(\n",
    "        u'<table>{}</table>'.format(\n",
    "            u''.join(u'<tr><td><b>{}</b></td><td>{}</td></tr>'.format(k, d[k]) for k in d))))\n",
    "\n",
    "def pp_dictOflist(d):\n",
    "    display(HTML(\n",
    "        u'<table>{}</table>'.format(\n",
    "            u''.join(u'<tr><td><b>{}</b></td>{}</tr>'.format(k,\n",
    "                u''.join(u'<td>{}</td>'.format(v) for v in d[k])) for k in d.keys()))))\n",
    "    \n",
    "def pp_listOflist(l):\n",
    "    display(HTML(\n",
    "        u'<table>{}</table>'.format(\n",
    "            u''.join(u'<tr>{}</tr>'.format(\n",
    "                u''.join(u'<td>{}</td>'.format(v) for v in sublist)) for sublist in l))))\n",
    "    \n",
    "def pp_bold(str):\n",
    "    display(HTML('<b>{}</b>'.format(str)))\n",
    "\n",
    "def pp_dfinfo(df, width=4):\n",
    "    ncols = len(df.columns)\n",
    "    width = min(width, ncols)\n",
    "    depth = -(-ncols // width)\n",
    "    i = 0\n",
    "    list_ = [[] for _ in range(depth)]\n",
    "    for _ in range(width):\n",
    "        for row in range(depth):\n",
    "            if i < ncols:\n",
    "                col = df.columns[i]\n",
    "                list_[row].extend(['<b>{}</b>'.format(col), df[col].count(), df.dtypes[i]])\n",
    "            i += 1\n",
    "\n",
    "    print('{} entries, {} columns'.format(len(df), ncols))\n",
    "    pp_listOflist(list_)\n"
   ]
  },
  {
   "cell_type": "code",
   "execution_count": 4,
   "metadata": {
    "collapsed": true
   },
   "outputs": [],
   "source": [
    "import json"
   ]
  },
  {
   "cell_type": "code",
   "execution_count": 5,
   "metadata": {
    "collapsed": false
   },
   "outputs": [
    {
     "name": "stdout",
     "output_type": "stream",
     "text": [
      "CPU times: user 1 s, sys: 788 ms, total: 1.79 s\n",
      "Wall time: 1.79 s\n"
     ]
    }
   ],
   "source": [
    "%%time\n",
    "with open('data/train.json', 'r') as fd:\n",
    "    dataset = json.load(fd)"
   ]
  },
  {
   "cell_type": "markdown",
   "metadata": {},
   "source": [
    "The data set consists of a 15-item dictionary that maps field names (e.g., ```bedrooms```) to the data point for each listing . "
   ]
  },
  {
   "cell_type": "code",
   "execution_count": 6,
   "metadata": {
    "collapsed": false
   },
   "outputs": [
    {
     "name": "stdout",
     "output_type": "stream",
     "text": [
      "[u'listing_id', u'interest_level', u'display_address', u'description', u'created', u'price', u'bedrooms', u'longitude', u'photos', u'manager_id', u'latitude', u'bathrooms', u'building_id', u'street_address', u'features']\n",
      "<type 'dict'>\n"
     ]
    }
   ],
   "source": [
    "print(dataset.keys())\n",
    "print(type(dataset.values()[0]))"
   ]
  },
  {
   "cell_type": "markdown",
   "metadata": {},
   "source": [
    "There are just under 50,000 listings in the dataset. Here I define helper functions to gather the data for a single listing into one object."
   ]
  },
  {
   "cell_type": "code",
   "execution_count": 7,
   "metadata": {
    "collapsed": true
   },
   "outputs": [],
   "source": [
    "def get_id(data, i):\n",
    "    \"\"\"Returns id of ith listing.\"\"\"\n",
    "    return data.values()[0].keys()[i]\n",
    "\n",
    "def get_listing(data, id):\n",
    "    \"\"\"Returns dictionary with data for one listing\"\"\"\n",
    "    listing = {'id' : id}\n",
    "    for k, v in data.items():\n",
    "        value = v[id]\n",
    "        if isinstance(value, list):\n",
    "            value = '\\n'.join(value)\n",
    "        listing[k] = value\n",
    "    return listing"
   ]
  },
  {
   "cell_type": "markdown",
   "metadata": {},
   "source": [
    "Let's print one of them."
   ]
  },
  {
   "cell_type": "code",
   "execution_count": 8,
   "metadata": {
    "collapsed": false
   },
   "outputs": [
    {
     "data": {
      "text/html": [
       "<b>49352 listings</b>"
      ],
      "text/plain": [
       "<IPython.core.display.HTML object>"
      ]
     },
     "metadata": {},
     "output_type": "display_data"
    },
    {
     "data": {
      "text/html": [
       "<table><tr><td><b>listing_id</b></td><td>6818139</td></tr><tr><td><b>building_id</b></td><td>f7fc4fd7b6b80615ebfce3e212e17cce</td></tr><tr><td><b>display_address</b></td><td>Hausman Street</td></tr><tr><td><b>description</b></td><td>This one WON'T LAST!! Here is a stunning 3 Bedroom, 2 Full Bathroom apartment measuring approximately 1100 sqft! The layout is NOT a railroad with a King Sized master bedroom complete with on suite full bathroom and bay-windows. The 2nd and 3rd bedrooms can fit a Full or Queen sized bed and have over-sized windows.  Thee is a second full bathroom with soaking tub off of the main hallway. Open concept kitchen with large island finished in real stone counters and soft close cabinetry plus Stainless Steel industrial sized appliances! Heated hardwood flooring throughout with tons of sunlight and space. Central HVAC means that you never have to be too hot or too cold again!<br /><br />One of the best locations for street parking in Greenpoint! Don't have a car? No Problem, the Nassau G Train and Grand St L train are within reach.<br /><br />Call, Text, Email Taylor now to schedule your private showing. Not exactly what you are looking for? Email me your search criteria, I Specialize in North Brooklyn!<br /><br /><br /><br />-------------Listing courtesy of Miron Properties. All material herein is intended for information purposes only and has been compiled from sources deemed reliable. Though information is believed to be correct, it is presented subject to errors, omissions, changes or withdrawal without notice.  Miron Properties is a licensed Real Estate Broker.  www.MironProperties.com<p><a  website_redacted </td></tr><tr><td><b>created</b></td><td>2016-04-03 02:22:45</td></tr><tr><td><b>price</b></td><td>2995</td></tr><tr><td><b>bedrooms</b></td><td>3</td></tr><tr><td><b>longitude</b></td><td>-73.9389</td></tr><tr><td><b>photos</b></td><td>https://photos.renthop.com/2/6818139_a50e80ff79c71a1ced4ec103985abdd9.jpg\n",
       "https://photos.renthop.com/2/6818139_a2be68c008aeff88347f97dc0350f85d.jpg\n",
       "https://photos.renthop.com/2/6818139_63166d3d69203d7bd63e8e8bb47db8c6.jpg\n",
       "https://photos.renthop.com/2/6818139_1aba230faec5ed91372bb3996b98acf1.jpg\n",
       "https://photos.renthop.com/2/6818139_af28eb103bab59ec9d929c3657d846e6.jpg\n",
       "https://photos.renthop.com/2/6818139_3637c3737c1286332310476fa4d5b1d8.jpg\n",
       "https://photos.renthop.com/2/6818139_83f4bfb1928581fb9feec154629f62e9.jpg</td></tr><tr><td><b>manager_id</b></td><td>198d2e96429920ff71cd06ddff323713</td></tr><tr><td><b>latitude</b></td><td>40.7245</td></tr><tr><td><b>bathrooms</b></td><td>2.0</td></tr><tr><td><b>interest_level</b></td><td>medium</td></tr><tr><td><b>id</b></td><td>110554</td></tr><tr><td><b>street_address</b></td><td>23 Hausman Street</td></tr><tr><td><b>features</b></td><td>Pre-War\n",
       "Dishwasher\n",
       "Hardwood Floors</td></tr></table>"
      ],
      "text/plain": [
       "<IPython.core.display.HTML object>"
      ]
     },
     "metadata": {},
     "output_type": "display_data"
    }
   ],
   "source": [
    "pp_bold('{} listings'.format(len(dataset.values()[0])))\n",
    "pp_dict(get_listing(dataset, get_id(dataset, 0)))"
   ]
  },
  {
   "cell_type": "markdown",
   "metadata": {},
   "source": [
    "Import all the listings into a Mongo database as separate documents. This helper function loads listings into the database, skiping duplicates."
   ]
  },
  {
   "cell_type": "code",
   "execution_count": 9,
   "metadata": {
    "collapsed": true
   },
   "outputs": [],
   "source": [
    "def load_data(collection, dataset):\n",
    "\n",
    "    # Get id's of existing and new listings\n",
    "    \n",
    "    cursor = collection.find({}, projection={'_id': 0, 'id': 1})\n",
    "    old = [cursor.next()['id'] for i in range(cursor.count())]\n",
    "    new = dataset.values()[0].keys()\n",
    "   \n",
    "    # If nothing new, punt\n",
    "    \n",
    "    todo = set(new) - set(old)\n",
    "    if not todo:\n",
    "        return None\n",
    "    \n",
    "    # Add new listings\n",
    "    \n",
    "    bulk = collection.initialize_ordered_bulk_op()\n",
    "    for id in todo:\n",
    "        bulk.insert(get_listing(dataset, id))\n",
    "    return bulk.execute()"
   ]
  },
  {
   "cell_type": "code",
   "execution_count": 10,
   "metadata": {
    "collapsed": true
   },
   "outputs": [],
   "source": [
    "from pymongo import MongoClient\n",
    "client = MongoClient('ec2-34-198-246-43.compute-1.amazonaws.com', 27017)\n",
    "db = client.renthop\n",
    "collection = db.listings"
   ]
  },
  {
   "cell_type": "code",
   "execution_count": 11,
   "metadata": {
    "collapsed": false
   },
   "outputs": [
    {
     "name": "stdout",
     "output_type": "stream",
     "text": [
      "None\n",
      "CPU times: user 120 ms, sys: 44 ms, total: 164 ms\n",
      "Wall time: 1.9 s\n"
     ]
    }
   ],
   "source": [
    "%%time\n",
    "result = load_data(collection, dataset)\n",
    "print(result)"
   ]
  },
  {
   "cell_type": "markdown",
   "metadata": {},
   "source": [
    "Verify listings are in collection; print one of them."
   ]
  },
  {
   "cell_type": "code",
   "execution_count": 12,
   "metadata": {
    "collapsed": false
   },
   "outputs": [
    {
     "data": {
      "text/html": [
       "<b>49352 listings</b>"
      ],
      "text/plain": [
       "<IPython.core.display.HTML object>"
      ]
     },
     "metadata": {},
     "output_type": "display_data"
    },
    {
     "data": {
      "text/html": [
       "<table><tr><td><b>listing_id</b></td><td>7088908</td></tr><tr><td><b>_id</b></td><td>58ac97520b0203c6b6436f4d</td></tr><tr><td><b>display_address</b></td><td>E 78 Street</td></tr><tr><td><b>description</b></td><td>Exposed brick wall w/gas electric & heat included: Immaculate, Naturally well-lite studio apartment in vibrant Upper East Side. Close & convenient access to the M 31/79 bus lines, shops, cafes, enticing nightlife/restaurants, & a endless array of sites to see on York Ave. Alluring hardwood flooring throughout, accommodating closet space, spacious granite counter top kitchen w/white appliances & captivating mahogany cabinetry. Laundry/video intercom, pets-friendly. $1,950/mo. Immediate occupancy. call Aubyn 264-906-2321 kagglemanager@renthop.com to secure a viewing. <br /><br />Bond New York is a real estate broker that supports equal housing opportunity.<p><a  website_redacted </td></tr><tr><td><b>created</b></td><td>2016-06-01 02:46:47</td></tr><tr><td><b>price</b></td><td>1950</td></tr><tr><td><b>bedrooms</b></td><td>0</td></tr><tr><td><b>interest_level</b></td><td>medium</td></tr><tr><td><b>longitude</b></td><td>-73.9501</td></tr><tr><td><b>photos</b></td><td>https://photos.renthop.com/2/7088908_f931ca0d83f33e08b6373602c15a2d08.jpg\n",
       "https://photos.renthop.com/2/7088908_9bbdc2ef9f8c8d42fe09ff99190e52ef.jpg\n",
       "https://photos.renthop.com/2/7088908_c1e72e3a8c228290172d793d33a3ab5e.jpg\n",
       "https://photos.renthop.com/2/7088908_c5a4045aa176b6664d7d0814a502e412.jpg\n",
       "https://photos.renthop.com/2/7088908_f5b90044815d1c5b1e1db4ec23ee0163.jpg\n",
       "https://photos.renthop.com/2/7088908_59507afd1e75b9d5f621a87f425d810d.jpg\n",
       "https://photos.renthop.com/2/7088908_858d353bdf4cf0ca228ac8ebe0e54204.jpg\n",
       "https://photos.renthop.com/2/7088908_752a4559b3199e9f0082754e5792faea.jpg</td></tr><tr><td><b>manager_id</b></td><td>136b844f49c4eae017d6cabe8ca03b9d</td></tr><tr><td><b>latitude</b></td><td>40.7706</td></tr><tr><td><b>bathrooms</b></td><td>1.0</td></tr><tr><td><b>building_id</b></td><td>45c480f3a0771a4e6ddf7a81790a0b07</td></tr><tr><td><b>id</b></td><td>11542</td></tr><tr><td><b>street_address</b></td><td>503 E 78 Street</td></tr><tr><td><b>features</b></td><td>Loft\n",
       "Laundry in Unit\n",
       "Hardwood Floors\n",
       "Dogs Allowed\n",
       "Cats Allowed</td></tr></table>"
      ],
      "text/plain": [
       "<IPython.core.display.HTML object>"
      ]
     },
     "metadata": {},
     "output_type": "display_data"
    }
   ],
   "source": [
    "pp_bold('{} listings'.format(collection.count()))\n",
    "cursor = collection.find({ 'listing_id' : get_listing(dataset, get_id(dataset, 1))['listing_id']})\n",
    "pp_dict(cursor.next())"
   ]
  },
  {
   "cell_type": "code",
   "execution_count": null,
   "metadata": {
    "collapsed": true
   },
   "outputs": [],
   "source": []
  }
 ],
 "metadata": {
  "anaconda-cloud": {},
  "kernelspec": {
   "display_name": "Python [default]",
   "language": "python",
   "name": "python2"
  },
  "language_info": {
   "codemirror_mode": {
    "name": "ipython",
    "version": 2
   },
   "file_extension": ".py",
   "mimetype": "text/x-python",
   "name": "python",
   "nbconvert_exporter": "python",
   "pygments_lexer": "ipython2",
   "version": "2.7.12"
  }
 },
 "nbformat": 4,
 "nbformat_minor": 1
}
