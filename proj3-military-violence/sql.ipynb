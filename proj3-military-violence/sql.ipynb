{
 "cells": [
  {
   "cell_type": "markdown",
   "metadata": {},
   "source": [
    "### MIDA_4.01\n",
    "\n",
    "Data on MIDs from 1816-2010, at the dispute level. Contains one record per militarized dispute."
   ]
  },
  {
   "cell_type": "markdown",
   "metadata": {},
   "source": [
    "```\n",
    "wget http://www.correlatesofwar.org/data-sets/MIDs/mid-level/at_download/file/MID-level.zip\n",
    "```"
   ]
  },
  {
   "cell_type": "markdown",
   "metadata": {},
   "source": [
    "```sql\n",
    "CREATE TABLE MIDA (\n",
    "    DispNum3    integer,\n",
    "    DispNum4    integer,\n",
    "    StDay       integer,\n",
    "    StMon       integer,\n",
    "    StYear      integer,\n",
    "    EndDay      integer,\n",
    "    EndMon      integer,\n",
    "    EndYear     integer,\n",
    "    Outcome     integer,\n",
    "    Settle      integer,\n",
    "    Fatality    integer,\n",
    "    FatalPre    integer,\n",
    "    MaxDur      integer,\n",
    "    MinDur      integer,\n",
    "    HiAct       integer,\n",
    "    HostLev     integer,\n",
    "    Recip       integer,\n",
    "    NumA        integer,\n",
    "    NumB        integer,\n",
    "    Link1       varchar,\n",
    "    Link2       varchar,\n",
    "    Link3       varchar,\n",
    "    Ongo2010    integer,\n",
    "    Version     numeric);\n",
    "\n",
    "COPY MIDA\n",
    "FROM '/home/dextersealy/MID/MIDA_4.01.csv'\n",
    "DELIMITER ','\n",
    "CSV HEADER;\n",
    "```"
   ]
  },
  {
   "cell_type": "markdown",
   "metadata": {},
   "source": [
    "### MIDB_4.01\n",
    "\n",
    "Data on MIDs from 1816-2010, at the participant level. Contains one record per militarized dispute participant."
   ]
  },
  {
   "cell_type": "markdown",
   "metadata": {},
   "source": [
    "```sql\n",
    "CREATE TABLE MIDB (\n",
    "    DispNum3    integer,\n",
    "    DispNum4    integer,\n",
    "    StAbb       varchar,\n",
    "    ccode       integer,\n",
    "    StDay       integer,\n",
    "    StMon       integer,\n",
    "    StYear      integer,\n",
    "    EndDay      integer,\n",
    "    EndMon      integer,\n",
    "    EndYear     integer,\n",
    "    SideA       integer,\n",
    "    RevState    integer,\n",
    "    RevType1    integer,\n",
    "    RevType2    integer,\n",
    "    Fatality    integer,\n",
    "    FataPre     integer,\n",
    "    HiAct       integer,\n",
    "    HostLev     integer,\n",
    "    Orig        integer,\n",
    "    Version     numeric);\n",
    "\n",
    "COPY MIDB\n",
    "FROM '/home/dextersealy/MID/MIDB_4.01.csv'\n",
    "DELIMITER ','\n",
    "CSV HEADER;\n",
    "```"
   ]
  },
  {
   "cell_type": "markdown",
   "metadata": {
    "collapsed": true
   },
   "source": [
    "### majors2011.csv \n",
    "\n",
    "Data on major world powers from 1816 to 2011"
   ]
  },
  {
   "cell_type": "markdown",
   "metadata": {},
   "source": [
    "```sql\n",
    "CREATE TABLE MIDMAJ (\n",
    "    StAbb       varchar,\n",
    "    ccode       integer,\n",
    "    StYear      integer,\n",
    "    StMon       integer,\n",
    "    StDay       integer,\n",
    "    EndYear     integer,\n",
    "    EndMon      integer,\n",
    "    EndDay      integer,\n",
    "    Version     numeric);\n",
    "\n",
    "COPY MIDMAJ\n",
    "FROM '/home/dextersealy/MID/majors2011.csv'\n",
    "DELIMITER ','\n",
    "CSV HEADER;\n",
    "```"
   ]
  },
  {
   "cell_type": "markdown",
   "metadata": {},
   "source": [
    "### MIDLOC_1.1.csv\n",
    "\n",
    "The Militarized Interstate Dispute Location (MIDLOC) dataset details the precise\n",
    "geographic onset location of Militarized Interstate Disputes (MIDs)"
   ]
  },
  {
   "cell_type": "markdown",
   "metadata": {},
   "source": [
    "```sql\n",
    "CREATE TABLE MIDLOC (\n",
    "    DispNum         integer,\n",
    "    IncidNum        integer,\n",
    "    StYear          integer,\n",
    "    StMonth         integer,\n",
    "    StDay           integer,\n",
    "    MID21Location   varchar,\n",
    "    MIDLOCLocation  varchar,\n",
    "    Latitude        numeric,\n",
    "    Longitude       numeric,\n",
    "    Precision       integer,\n",
    "    Onset           integer);\n",
    "\n",
    "COPY MIDLOC\n",
    "FROM '/home/dextersealy/MID/MIDLOC_1.1.csv'\n",
    "DELIMITER ','\n",
    "CSV HEADER;\n",
    "```"
   ]
  },
  {
   "cell_type": "markdown",
   "metadata": {},
   "source": [
    "### NMC\n",
    "National Material Capabilities"
   ]
  },
  {
   "cell_type": "markdown",
   "metadata": {},
   "source": [
    "```sql\n",
    "CREATE TABLE MIDNMC (\n",
    "    StAbb       varchar,\n",
    "    CCode       integer,\n",
    "    Year        integer,\n",
    "    IronSteel   integer,\n",
    "    MilExp      integer,\n",
    "    MilPers     integer,\n",
    "    PrimaryEC   numeric,\n",
    "    TotalPop    integer,\n",
    "    UrbanPop    integer,\n",
    "    CINC        numeric,\n",
    "    Version     numeric);\n",
    "\n",
    "COPY MIDNMC\n",
    "FROM '/home/dextersealy/MID/NMC_v4_0.csv'\n",
    "DELIMITER ','\n",
    "CSV HEADER;\n",
    "```"
   ]
  },
  {
   "cell_type": "markdown",
   "metadata": {
    "collapsed": true
   },
   "source": [
    "### Direct Contiguity (v3.1)\n",
    "Land and sea borders of all states."
   ]
  },
  {
   "cell_type": "markdown",
   "metadata": {},
   "source": [
    "```sql\n",
    "CREATE TABLE MIDCONT (\n",
    "    Dyad       varchar,\n",
    "    StateLNo   integer,\n",
    "    StateLAb   varchar,\n",
    "    StateHNo   integer,\n",
    "    StateHAb   varchar,\n",
    "    ContType   integer,\n",
    "    ContBegin  varchar,\n",
    "    ContEnd    varchar,\n",
    "    Notes      varchar,\n",
    "    Version    numeric);\n",
    "\n",
    "COPY MIDCONT\n",
    "FROM '/home/dextersealy/MID/contdir.csv'\n",
    "DELIMITER ','\n",
    "CSV HEADER;\n",
    "```"
   ]
  },
  {
   "cell_type": "code",
   "execution_count": null,
   "metadata": {
    "collapsed": true
   },
   "outputs": [],
   "source": []
  }
 ],
 "metadata": {
  "anaconda-cloud": {},
  "kernelspec": {
   "display_name": "Python [default]",
   "language": "python",
   "name": "python2"
  },
  "language_info": {
   "codemirror_mode": {
    "name": "ipython",
    "version": 2
   },
   "file_extension": ".py",
   "mimetype": "text/x-python",
   "name": "python",
   "nbconvert_exporter": "python",
   "pygments_lexer": "ipython2",
   "version": "2.7.12"
  }
 },
 "nbformat": 4,
 "nbformat_minor": 1
}
