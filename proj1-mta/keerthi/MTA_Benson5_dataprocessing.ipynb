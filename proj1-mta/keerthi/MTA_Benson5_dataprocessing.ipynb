{
 "cells": [
  {
   "cell_type": "code",
   "execution_count": 138,
   "metadata": {
    "collapsed": true
   },
   "outputs": [],
   "source": [
    "import pandas as pd\n",
    "import numpy as np\n",
    "import matplotlib.pyplot as plt\n",
    "import matplotlib.patches as mpatches\n",
    "import seaborn as sns\n",
    "from IPython.display import Image\n",
    "import pandasql as pdsql\n",
    "\n",
    "%matplotlib inline"
   ]
  },
  {
   "cell_type": "code",
   "execution_count": 18,
   "metadata": {
    "collapsed": false
   },
   "outputs": [],
   "source": [
    "# read csv into panda data frame to see values read from file into data frame\n",
    "subway=pd.read_csv('mta-spring2016-rev01.csv') \n",
    "\n",
    "#set up and execute sql to get average number of entries for a station-time on a weekday\n",
    "pysql = lambda q: pdsql.sqldf(q, globals())\n",
    "pd.options.display.float_format = '{:,.2f}'.format\n",
    "\n"
   ]
  },
  {
   "cell_type": "code",
   "execution_count": 80,
   "metadata": {
    "collapsed": false
   },
   "outputs": [
    {
     "data": {
      "text/html": [
       "<div>\n",
       "<table border=\"1\" class=\"dataframe\">\n",
       "  <thead>\n",
       "    <tr style=\"text-align: right;\">\n",
       "      <th></th>\n",
       "      <th>STATION</th>\n",
       "      <th>TIME</th>\n",
       "      <th>avg(entries)</th>\n",
       "      <th>avg(exits)</th>\n",
       "    </tr>\n",
       "  </thead>\n",
       "  <tbody>\n",
       "    <tr>\n",
       "      <th>0</th>\n",
       "      <td>14 ST-UNION SQ</td>\n",
       "      <td>1</td>\n",
       "      <td>14,049.50</td>\n",
       "      <td>4,439.38</td>\n",
       "    </tr>\n",
       "    <tr>\n",
       "      <th>1</th>\n",
       "      <td>14 ST-UNION SQ</td>\n",
       "      <td>5</td>\n",
       "      <td>1,291.53</td>\n",
       "      <td>612.00</td>\n",
       "    </tr>\n",
       "    <tr>\n",
       "      <th>2</th>\n",
       "      <td>14 ST-UNION SQ</td>\n",
       "      <td>9</td>\n",
       "      <td>8,648.07</td>\n",
       "      <td>17,880.40</td>\n",
       "    </tr>\n",
       "    <tr>\n",
       "      <th>3</th>\n",
       "      <td>14 ST-UNION SQ</td>\n",
       "      <td>13</td>\n",
       "      <td>14,700.75</td>\n",
       "      <td>24,993.90</td>\n",
       "    </tr>\n",
       "    <tr>\n",
       "      <th>4</th>\n",
       "      <td>14 ST-UNION SQ</td>\n",
       "      <td>17</td>\n",
       "      <td>28,550.77</td>\n",
       "      <td>20,830.17</td>\n",
       "    </tr>\n",
       "    <tr>\n",
       "      <th>5</th>\n",
       "      <td>14 ST-UNION SQ</td>\n",
       "      <td>21</td>\n",
       "      <td>39,146.08</td>\n",
       "      <td>22,462.30</td>\n",
       "    </tr>\n",
       "  </tbody>\n",
       "</table>\n",
       "</div>"
      ],
      "text/plain": [
       "          STATION  TIME  avg(entries)  avg(exits)\n",
       "0  14 ST-UNION SQ     1     14,049.50    4,439.38\n",
       "1  14 ST-UNION SQ     5      1,291.53      612.00\n",
       "2  14 ST-UNION SQ     9      8,648.07   17,880.40\n",
       "3  14 ST-UNION SQ    13     14,700.75   24,993.90\n",
       "4  14 ST-UNION SQ    17     28,550.77   20,830.17\n",
       "5  14 ST-UNION SQ    21     39,146.08   22,462.30"
      ]
     },
     "execution_count": 80,
     "metadata": {},
     "output_type": "execute_result"
    }
   ],
   "source": [
    "#Query to extract time, average(entries) and average(exits) data for 14 ST-UNION SQ station, for weekdays\n",
    "\n",
    "str5 = \"select station,time,avg(entries),avg(exits) from subway where station ='14 ST-UNION SQ' and (day < 5) group by time order by time;\"\n",
    "df5 = pysql(str5)\n",
    "df5\n",
    " "
   ]
  },
  {
   "cell_type": "code",
   "execution_count": 207,
   "metadata": {
    "collapsed": false
   },
   "outputs": [
    {
     "data": {
      "image/png": "[encoded data removed]",
      "text/plain": [
       "<matplotlib.figure.Figure at 0x12c35a750>"
      ]
     },
     "metadata": {},
     "output_type": "display_data"
    }
   ],
   "source": [
    "#Chart4: UNION SQUARE flow through the day\n",
    "width = 1\n",
    "x = df5['TIME']\n",
    "plt.bar(x,df5['avg(entries)'], color = 'cyan', label = 'entries', width =1)\n",
    "plt.bar(x+width,df5['avg(exits)'], color='yellow',label = 'exits', width =1)\n",
    "\n",
    "plt.xlabel('Time of Day')\n",
    "plt.ylabel('Average Number of Riders')\n",
    "\n",
    "plt.xticks(x,['9PM - 1AM', '1AM - 5AM', '5AM - 9AM', '9AM - 1PM', '1PM - 5PM', '5PM - 9PM'])\n",
    "plt.title('Subway Riders at 14 ST-UNION SQ')\n",
    "\n",
    "patch1 = mpatches.Patch(color = 'cyan', label = 'entries')\n",
    "patch2 = mpatches.Patch(color = 'yellow',label = 'exits')\n",
    "\n",
    "\n",
    "plt.legend(bbox_to_anchor = (0.2,1), handles = [patch1, patch2])\n",
    "plt.show()\n",
    "\n",
    "\n",
    "\n"
   ]
  },
  {
   "cell_type": "code",
   "execution_count": 84,
   "metadata": {
    "collapsed": false
   },
   "outputs": [
    {
     "data": {
      "text/html": [
       "<div>\n",
       "<table border=\"1\" class=\"dataframe\">\n",
       "  <thead>\n",
       "    <tr style=\"text-align: right;\">\n",
       "      <th></th>\n",
       "      <th>DAY</th>\n",
       "      <th>avg(entries)</th>\n",
       "      <th>avg(exits)</th>\n",
       "    </tr>\n",
       "  </thead>\n",
       "  <tbody>\n",
       "    <tr>\n",
       "      <th>0</th>\n",
       "      <td>0</td>\n",
       "      <td>36,624.58</td>\n",
       "      <td>20,116.83</td>\n",
       "    </tr>\n",
       "    <tr>\n",
       "      <th>1</th>\n",
       "      <td>1</td>\n",
       "      <td>40,511.67</td>\n",
       "      <td>22,485.33</td>\n",
       "    </tr>\n",
       "    <tr>\n",
       "      <th>2</th>\n",
       "      <td>2</td>\n",
       "      <td>41,304.67</td>\n",
       "      <td>23,435.92</td>\n",
       "    </tr>\n",
       "    <tr>\n",
       "      <th>3</th>\n",
       "      <td>3</td>\n",
       "      <td>39,607.92</td>\n",
       "      <td>22,828.92</td>\n",
       "    </tr>\n",
       "    <tr>\n",
       "      <th>4</th>\n",
       "      <td>4</td>\n",
       "      <td>37,681.58</td>\n",
       "      <td>23,444.50</td>\n",
       "    </tr>\n",
       "  </tbody>\n",
       "</table>\n",
       "</div>"
      ],
      "text/plain": [
       "   DAY  avg(entries)  avg(exits)\n",
       "0    0     36,624.58   20,116.83\n",
       "1    1     40,511.67   22,485.33\n",
       "2    2     41,304.67   23,435.92\n",
       "3    3     39,607.92   22,828.92\n",
       "4    4     37,681.58   23,444.50"
      ]
     },
     "execution_count": 84,
     "metadata": {},
     "output_type": "execute_result"
    }
   ],
   "source": [
    "str_union_day=\"select day,avg(entries),avg(exits) from subway where (day < 5) and station='14 ST-UNION SQ'and time='21' group by day\"\n",
    "df_union_day = pysql(str_union_day)\n",
    "df_union_day"
   ]
  },
  {
   "cell_type": "code",
   "execution_count": 211,
   "metadata": {
    "collapsed": false
   },
   "outputs": [
    {
     "data": {
      "image/png": "[encoded data removed]",
      "text/plain": [
       "<matplotlib.figure.Figure at 0x12c790950>"
      ]
     },
     "metadata": {},
     "output_type": "display_data"
    }
   ],
   "source": [
    "#Chart for Union Sq by time of Day\n",
    "width = 0.3\n",
    "fig, ax = plt.subplots()\n",
    "\n",
    "x = df_union_day['DAY']\n",
    "plt.bar(x,df_union_day['avg(entries)'], color='cyan',label = 'entries', width = 0.3)\n",
    "plt.bar(x+width,df_union_day['avg(exits)'], color='yellow',label = 'exits',width = 0.3)\n",
    "\n",
    "plt.xlabel('Day of Week')\n",
    "plt.ylabel('Average number of riders')\n",
    "plt.title('Peak flow (5pm-9pm) for 14 ST-Union Square')\n",
    "plt.xticks(x+width,['Monday', 'Tuesday', 'Wednesday', 'Thursday', 'Friday'])\n",
    "\n",
    "\n",
    "patch1 = mpatches.Patch(color = 'cyan', label = 'entries')\n",
    "patch2 = mpatches.Patch(color = 'yellow',label = 'exits')\n",
    "\n",
    "\n",
    "plt.legend(handles = [patch1, patch2])\n",
    "plt.show()"
   ]
  },
  {
   "cell_type": "code",
   "execution_count": 128,
   "metadata": {
    "collapsed": false
   },
   "outputs": [
    {
     "data": {
      "text/html": [
       "<div>\n",
       "<table border=\"1\" class=\"dataframe\">\n",
       "  <thead>\n",
       "    <tr style=\"text-align: right;\">\n",
       "      <th></th>\n",
       "      <th>STATION</th>\n",
       "      <th>sum(entries)</th>\n",
       "      <th>sum(exits)</th>\n",
       "    </tr>\n",
       "  </thead>\n",
       "  <tbody>\n",
       "    <tr>\n",
       "      <th>0</th>\n",
       "      <td>34 ST-PENN STA</td>\n",
       "      <td>12476632</td>\n",
       "      <td>10648177</td>\n",
       "    </tr>\n",
       "    <tr>\n",
       "      <th>1</th>\n",
       "      <td>GRD CNTRL-42 ST</td>\n",
       "      <td>10618672</td>\n",
       "      <td>9428334</td>\n",
       "    </tr>\n",
       "    <tr>\n",
       "      <th>2</th>\n",
       "      <td>34 ST-HERALD SQ</td>\n",
       "      <td>9109199</td>\n",
       "      <td>8007551</td>\n",
       "    </tr>\n",
       "    <tr>\n",
       "      <th>3</th>\n",
       "      <td>14 ST-UNION SQ</td>\n",
       "      <td>8098847</td>\n",
       "      <td>6958567</td>\n",
       "    </tr>\n",
       "    <tr>\n",
       "      <th>4</th>\n",
       "      <td>86 ST</td>\n",
       "      <td>8150360</td>\n",
       "      <td>6854298</td>\n",
       "    </tr>\n",
       "    <tr>\n",
       "      <th>5</th>\n",
       "      <td>23 ST</td>\n",
       "      <td>9018285</td>\n",
       "      <td>6802362</td>\n",
       "    </tr>\n",
       "    <tr>\n",
       "      <th>6</th>\n",
       "      <td>TIMES SQ-42 ST</td>\n",
       "      <td>7406450</td>\n",
       "      <td>6779154</td>\n",
       "    </tr>\n",
       "    <tr>\n",
       "      <th>7</th>\n",
       "      <td>42 ST-PORT AUTH</td>\n",
       "      <td>7864415</td>\n",
       "      <td>5559764</td>\n",
       "    </tr>\n",
       "    <tr>\n",
       "      <th>8</th>\n",
       "      <td>FULTON ST</td>\n",
       "      <td>5765828</td>\n",
       "      <td>4796521</td>\n",
       "    </tr>\n",
       "    <tr>\n",
       "      <th>9</th>\n",
       "      <td>59 ST</td>\n",
       "      <td>5899151</td>\n",
       "      <td>4741133</td>\n",
       "    </tr>\n",
       "    <tr>\n",
       "      <th>10</th>\n",
       "      <td>125 ST</td>\n",
       "      <td>6229173</td>\n",
       "      <td>4712844</td>\n",
       "    </tr>\n",
       "    <tr>\n",
       "      <th>11</th>\n",
       "      <td>47-50 STS ROCK</td>\n",
       "      <td>4108126</td>\n",
       "      <td>4295469</td>\n",
       "    </tr>\n",
       "    <tr>\n",
       "      <th>12</th>\n",
       "      <td>59 ST COLUMBUS</td>\n",
       "      <td>5577787</td>\n",
       "      <td>4210589</td>\n",
       "    </tr>\n",
       "    <tr>\n",
       "      <th>13</th>\n",
       "      <td>CANAL ST</td>\n",
       "      <td>5345514</td>\n",
       "      <td>4058563</td>\n",
       "    </tr>\n",
       "    <tr>\n",
       "      <th>14</th>\n",
       "      <td>14 ST</td>\n",
       "      <td>4854616</td>\n",
       "      <td>4014286</td>\n",
       "    </tr>\n",
       "    <tr>\n",
       "      <th>15</th>\n",
       "      <td>96 ST</td>\n",
       "      <td>5632401</td>\n",
       "      <td>3843976</td>\n",
       "    </tr>\n",
       "    <tr>\n",
       "      <th>16</th>\n",
       "      <td>CHAMBERS ST</td>\n",
       "      <td>5144089</td>\n",
       "      <td>3682674</td>\n",
       "    </tr>\n",
       "    <tr>\n",
       "      <th>17</th>\n",
       "      <td>72 ST</td>\n",
       "      <td>3878339</td>\n",
       "      <td>3646782</td>\n",
       "    </tr>\n",
       "    <tr>\n",
       "      <th>18</th>\n",
       "      <td>FLUSHING-MAIN</td>\n",
       "      <td>4529070</td>\n",
       "      <td>3634576</td>\n",
       "    </tr>\n",
       "    <tr>\n",
       "      <th>19</th>\n",
       "      <td>28 ST</td>\n",
       "      <td>3762874</td>\n",
       "      <td>3466415</td>\n",
       "    </tr>\n",
       "  </tbody>\n",
       "</table>\n",
       "</div>"
      ],
      "text/plain": [
       "            STATION  sum(entries)  sum(exits)\n",
       "0    34 ST-PENN STA      12476632    10648177\n",
       "1   GRD CNTRL-42 ST      10618672     9428334\n",
       "2   34 ST-HERALD SQ       9109199     8007551\n",
       "3    14 ST-UNION SQ       8098847     6958567\n",
       "4             86 ST       8150360     6854298\n",
       "5             23 ST       9018285     6802362\n",
       "6    TIMES SQ-42 ST       7406450     6779154\n",
       "7   42 ST-PORT AUTH       7864415     5559764\n",
       "8         FULTON ST       5765828     4796521\n",
       "9             59 ST       5899151     4741133\n",
       "10           125 ST       6229173     4712844\n",
       "11   47-50 STS ROCK       4108126     4295469\n",
       "12   59 ST COLUMBUS       5577787     4210589\n",
       "13         CANAL ST       5345514     4058563\n",
       "14            14 ST       4854616     4014286\n",
       "15            96 ST       5632401     3843976\n",
       "16      CHAMBERS ST       5144089     3682674\n",
       "17            72 ST       3878339     3646782\n",
       "18    FLUSHING-MAIN       4529070     3634576\n",
       "19            28 ST       3762874     3466415"
      ]
     },
     "execution_count": 128,
     "metadata": {},
     "output_type": "execute_result"
    }
   ],
   "source": [
    "str_allstations = \"select station,sum(entries),sum(exits) from subway group by station order by sum(exits) desc LIMIT 20;\"\n",
    "df_allstations = pysql(str_allstations)\n",
    "df_allstations"
   ]
  },
  {
   "cell_type": "code",
   "execution_count": 148,
   "metadata": {
    "collapsed": false
   },
   "outputs": [
    {
     "data": {
      "text/html": [
       "<div>\n",
       "<table border=\"1\" class=\"dataframe\">\n",
       "  <thead>\n",
       "    <tr style=\"text-align: right;\">\n",
       "      <th></th>\n",
       "      <th>STATION</th>\n",
       "      <th>avg(entries)</th>\n",
       "      <th>avg(exits)</th>\n",
       "    </tr>\n",
       "  </thead>\n",
       "  <tbody>\n",
       "    <tr>\n",
       "      <th>0</th>\n",
       "      <td>34 ST-HERALD SQ</td>\n",
       "      <td>18,145.81</td>\n",
       "      <td>15,951.30</td>\n",
       "    </tr>\n",
       "    <tr>\n",
       "      <th>1</th>\n",
       "      <td>14 ST-UNION SQ</td>\n",
       "      <td>16,101.09</td>\n",
       "      <td>13,834.13</td>\n",
       "    </tr>\n",
       "    <tr>\n",
       "      <th>2</th>\n",
       "      <td>TIMES SQ-42 ST</td>\n",
       "      <td>14,753.88</td>\n",
       "      <td>13,504.29</td>\n",
       "    </tr>\n",
       "    <tr>\n",
       "      <th>3</th>\n",
       "      <td>34 ST-PENN STA</td>\n",
       "      <td>12,414.56</td>\n",
       "      <td>10,595.20</td>\n",
       "    </tr>\n",
       "    <tr>\n",
       "      <th>4</th>\n",
       "      <td>59 ST</td>\n",
       "      <td>11,751.30</td>\n",
       "      <td>9,444.49</td>\n",
       "    </tr>\n",
       "    <tr>\n",
       "      <th>5</th>\n",
       "      <td>GRD CNTRL-42 ST</td>\n",
       "      <td>10,565.84</td>\n",
       "      <td>9,381.43</td>\n",
       "    </tr>\n",
       "    <tr>\n",
       "      <th>6</th>\n",
       "      <td>47-50 STS ROCK</td>\n",
       "      <td>8,183.52</td>\n",
       "      <td>8,556.71</td>\n",
       "    </tr>\n",
       "    <tr>\n",
       "      <th>7</th>\n",
       "      <td>59 ST COLUMBUS</td>\n",
       "      <td>11,111.13</td>\n",
       "      <td>8,387.63</td>\n",
       "    </tr>\n",
       "    <tr>\n",
       "      <th>8</th>\n",
       "      <td>CHAMBERS ST</td>\n",
       "      <td>10,247.19</td>\n",
       "      <td>7,336.00</td>\n",
       "    </tr>\n",
       "    <tr>\n",
       "      <th>9</th>\n",
       "      <td>FLUSHING-MAIN</td>\n",
       "      <td>9,022.05</td>\n",
       "      <td>7,240.19</td>\n",
       "    </tr>\n",
       "    <tr>\n",
       "      <th>10</th>\n",
       "      <td>86 ST</td>\n",
       "      <td>8,109.81</td>\n",
       "      <td>6,820.20</td>\n",
       "    </tr>\n",
       "    <tr>\n",
       "      <th>11</th>\n",
       "      <td>23 ST</td>\n",
       "      <td>8,973.42</td>\n",
       "      <td>6,768.52</td>\n",
       "    </tr>\n",
       "    <tr>\n",
       "      <th>12</th>\n",
       "      <td>W 4 ST-WASH SQ</td>\n",
       "      <td>6,711.25</td>\n",
       "      <td>6,389.80</td>\n",
       "    </tr>\n",
       "    <tr>\n",
       "      <th>13</th>\n",
       "      <td>ATL AV-BARCLAY</td>\n",
       "      <td>6,752.49</td>\n",
       "      <td>6,207.22</td>\n",
       "    </tr>\n",
       "    <tr>\n",
       "      <th>14</th>\n",
       "      <td>LEXINGTON AV/53</td>\n",
       "      <td>5,907.77</td>\n",
       "      <td>6,049.47</td>\n",
       "    </tr>\n",
       "    <tr>\n",
       "      <th>15</th>\n",
       "      <td>50 ST</td>\n",
       "      <td>7,510.38</td>\n",
       "      <td>5,862.39</td>\n",
       "    </tr>\n",
       "    <tr>\n",
       "      <th>16</th>\n",
       "      <td>JKSN HT-ROOSVLT</td>\n",
       "      <td>7,699.52</td>\n",
       "      <td>5,775.89</td>\n",
       "    </tr>\n",
       "    <tr>\n",
       "      <th>17</th>\n",
       "      <td>42 ST-BRYANT PK</td>\n",
       "      <td>5,696.19</td>\n",
       "      <td>5,631.12</td>\n",
       "    </tr>\n",
       "    <tr>\n",
       "      <th>18</th>\n",
       "      <td>42 ST-PORT AUTH</td>\n",
       "      <td>7,825.29</td>\n",
       "      <td>5,532.10</td>\n",
       "    </tr>\n",
       "    <tr>\n",
       "      <th>19</th>\n",
       "      <td>BEDFORD AV</td>\n",
       "      <td>4,623.75</td>\n",
       "      <td>4,974.99</td>\n",
       "    </tr>\n",
       "  </tbody>\n",
       "</table>\n",
       "</div>"
      ],
      "text/plain": [
       "            STATION  avg(entries)  avg(exits)\n",
       "0   34 ST-HERALD SQ     18,145.81   15,951.30\n",
       "1    14 ST-UNION SQ     16,101.09   13,834.13\n",
       "2    TIMES SQ-42 ST     14,753.88   13,504.29\n",
       "3    34 ST-PENN STA     12,414.56   10,595.20\n",
       "4             59 ST     11,751.30    9,444.49\n",
       "5   GRD CNTRL-42 ST     10,565.84    9,381.43\n",
       "6    47-50 STS ROCK      8,183.52    8,556.71\n",
       "7    59 ST COLUMBUS     11,111.13    8,387.63\n",
       "8       CHAMBERS ST     10,247.19    7,336.00\n",
       "9     FLUSHING-MAIN      9,022.05    7,240.19\n",
       "10            86 ST      8,109.81    6,820.20\n",
       "11            23 ST      8,973.42    6,768.52\n",
       "12   W 4 ST-WASH SQ      6,711.25    6,389.80\n",
       "13   ATL AV-BARCLAY      6,752.49    6,207.22\n",
       "14  LEXINGTON AV/53      5,907.77    6,049.47\n",
       "15            50 ST      7,510.38    5,862.39\n",
       "16  JKSN HT-ROOSVLT      7,699.52    5,775.89\n",
       "17  42 ST-BRYANT PK      5,696.19    5,631.12\n",
       "18  42 ST-PORT AUTH      7,825.29    5,532.10\n",
       "19       BEDFORD AV      4,623.75    4,974.99"
      ]
     },
     "execution_count": 148,
     "metadata": {},
     "output_type": "execute_result"
    }
   ],
   "source": [
    "#Query to rank all station by volume of commuters; top 20 selected\n",
    "str_allstations20 = \"select station,avg(entries),avg(exits) from subway group by station order by avg(exits) desc LIMIT 20;\"\n",
    "df_allstations20 = pysql(str_allstations20)\n",
    "df_allstations20"
   ]
  },
  {
   "cell_type": "code",
   "execution_count": 205,
   "metadata": {
    "collapsed": false
   },
   "outputs": [
    {
     "data": {
      "image/png": "[encoded data removed]",
      "text/plain": [
       "<matplotlib.figure.Figure at 0x134cc0f90>"
      ]
     },
     "metadata": {},
     "output_type": "display_data"
    }
   ],
   "source": [
    "#Chart for stations ranking\n",
    "\n",
    "from pylab import *\n",
    "\n",
    "\n",
    "x = range(0, len(df_allstations20['avg(entries)']))\n",
    "plt.figure(1)\n",
    "plt.yticks(x,df_allstations20['STATION'])\n",
    "plt.barh(x, df_allstations20['avg(entries)'], color='cyan',label = 'entries' )\n",
    "plt.barh(x, df_allstations20['avg(exits)']+width, color='yellow',label = 'exits')\n",
    "xlabel('Number of Subway Riders')\n",
    "title('Top 20 Subway Stations by Ridership')\n",
    "\n",
    "patch1 = mpatches.Patch(color = 'cyan', label = 'entries')\n",
    "patch2 = mpatches.Patch(color = 'yellow',label = 'exits')\n",
    "\n",
    "\n",
    "plt.legend(handles = [patch1, patch2])\n",
    "show()\n",
    "\n"
   ]
  },
  {
   "cell_type": "code",
   "execution_count": 155,
   "metadata": {
    "collapsed": false
   },
   "outputs": [
    {
     "data": {
      "text/html": [
       "<div>\n",
       "<table border=\"1\" class=\"dataframe\">\n",
       "  <thead>\n",
       "    <tr style=\"text-align: right;\">\n",
       "      <th></th>\n",
       "      <th>DAY</th>\n",
       "      <th>avg(entries)</th>\n",
       "      <th>avg(exits)</th>\n",
       "    </tr>\n",
       "  </thead>\n",
       "  <tbody>\n",
       "    <tr>\n",
       "      <th>0</th>\n",
       "      <td>0</td>\n",
       "      <td>2,237.74</td>\n",
       "      <td>1,640.44</td>\n",
       "    </tr>\n",
       "    <tr>\n",
       "      <th>1</th>\n",
       "      <td>1</td>\n",
       "      <td>2,467.69</td>\n",
       "      <td>1,812.08</td>\n",
       "    </tr>\n",
       "    <tr>\n",
       "      <th>2</th>\n",
       "      <td>2</td>\n",
       "      <td>2,528.11</td>\n",
       "      <td>1,857.43</td>\n",
       "    </tr>\n",
       "    <tr>\n",
       "      <th>3</th>\n",
       "      <td>3</td>\n",
       "      <td>2,527.82</td>\n",
       "      <td>1,860.07</td>\n",
       "    </tr>\n",
       "    <tr>\n",
       "      <th>4</th>\n",
       "      <td>4</td>\n",
       "      <td>2,436.37</td>\n",
       "      <td>1,806.54</td>\n",
       "    </tr>\n",
       "    <tr>\n",
       "      <th>5</th>\n",
       "      <td>5</td>\n",
       "      <td>1,474.47</td>\n",
       "      <td>1,154.06</td>\n",
       "    </tr>\n",
       "    <tr>\n",
       "      <th>6</th>\n",
       "      <td>6</td>\n",
       "      <td>1,166.29</td>\n",
       "      <td>920.97</td>\n",
       "    </tr>\n",
       "  </tbody>\n",
       "</table>\n",
       "</div>"
      ],
      "text/plain": [
       "   DAY  avg(entries)  avg(exits)\n",
       "0    0      2,237.74    1,640.44\n",
       "1    1      2,467.69    1,812.08\n",
       "2    2      2,528.11    1,857.43\n",
       "3    3      2,527.82    1,860.07\n",
       "4    4      2,436.37    1,806.54\n",
       "5    5      1,474.47    1,154.06\n",
       "6    6      1,166.29      920.97"
      ]
     },
     "execution_count": 155,
     "metadata": {},
     "output_type": "execute_result"
    }
   ],
   "source": [
    "#Query to get flow of commuters from all subway stations by day of week\n",
    "str_all_day = 'select day,avg(entries),avg(exits) from subway group by day order by day;'\n",
    "df_all_day = pysql(str_all_day)\n",
    "df_all_day"
   ]
  },
  {
   "cell_type": "code",
   "execution_count": 210,
   "metadata": {
    "collapsed": false
   },
   "outputs": [
    {
     "data": {
      "image/png": "[encoded data removed]",
      "text/plain": [
       "<matplotlib.figure.Figure at 0x12c616790>"
      ]
     },
     "metadata": {},
     "output_type": "display_data"
    }
   ],
   "source": [
    "#Chart for flow of commuters by day of week\n",
    "width = 0.3\n",
    "fig, ax = plt.subplots()\n",
    "\n",
    "x = df_all_day['DAY']\n",
    "plt.bar(x,df_all_day['avg(entries)'], color='cyan',label = 'entries',width = 0.3)\n",
    "plt.bar(x+width,df_all_day['avg(exits)'], color='yellow',label = 'exits',width = 0.3)\n",
    "\n",
    "plt.xlabel('Day of Week')\n",
    "plt.ylabel('Average Number of Riders')\n",
    "plt.title('Subway Riders by Day of Week')\n",
    "plt.xticks(x+width,['Monday', 'Tuesday', 'Wednesday', 'Thursday', 'Friday', 'Saturday', 'Sunday'])\n",
    "\n",
    "\n",
    "patch1 = mpatches.Patch(color = 'cyan', label = 'entries')\n",
    "patch2 = mpatches.Patch(color = 'yellow',label = 'exits')\n",
    "\n",
    "\n",
    "plt.legend(handles = [patch1, patch2])\n",
    "plt.show()"
   ]
  },
  {
   "cell_type": "code",
   "execution_count": 167,
   "metadata": {
    "collapsed": false
   },
   "outputs": [
    {
     "data": {
      "text/html": [
       "<div>\n",
       "<table border=\"1\" class=\"dataframe\">\n",
       "  <thead>\n",
       "    <tr style=\"text-align: right;\">\n",
       "      <th></th>\n",
       "      <th>TIME</th>\n",
       "      <th>avg(entries)</th>\n",
       "      <th>avg(exits)</th>\n",
       "    </tr>\n",
       "  </thead>\n",
       "  <tbody>\n",
       "    <tr>\n",
       "      <th>0</th>\n",
       "      <td>0</td>\n",
       "      <td>1,624.43</td>\n",
       "      <td>1,355.08</td>\n",
       "    </tr>\n",
       "    <tr>\n",
       "      <th>1</th>\n",
       "      <td>4</td>\n",
       "      <td>270.25</td>\n",
       "      <td>289.80</td>\n",
       "    </tr>\n",
       "    <tr>\n",
       "      <th>2</th>\n",
       "      <td>8</td>\n",
       "      <td>1,787.95</td>\n",
       "      <td>962.37</td>\n",
       "    </tr>\n",
       "    <tr>\n",
       "      <th>3</th>\n",
       "      <td>12</td>\n",
       "      <td>3,304.92</td>\n",
       "      <td>2,731.41</td>\n",
       "    </tr>\n",
       "    <tr>\n",
       "      <th>4</th>\n",
       "      <td>16</td>\n",
       "      <td>3,003.10</td>\n",
       "      <td>2,169.14</td>\n",
       "    </tr>\n",
       "    <tr>\n",
       "      <th>5</th>\n",
       "      <td>20</td>\n",
       "      <td>4,276.83</td>\n",
       "      <td>3,158.70</td>\n",
       "    </tr>\n",
       "  </tbody>\n",
       "</table>\n",
       "</div>"
      ],
      "text/plain": [
       "   TIME  avg(entries)  avg(exits)\n",
       "0     0      1,624.43    1,355.08\n",
       "1     4        270.25      289.80\n",
       "2     8      1,787.95      962.37\n",
       "3    12      3,304.92    2,731.41\n",
       "4    16      3,003.10    2,169.14\n",
       "5    20      4,276.83    3,158.70"
      ]
     },
     "execution_count": 167,
     "metadata": {},
     "output_type": "execute_result"
    }
   ],
   "source": [
    "#Query to get commuter flow by time of day, all subway stations included\n",
    "str_all_time = 'select time,avg(entries),avg(exits) from subway where time in(0,4,8,12,16,20) group by time;'\n",
    "df_all_time = pysql(str_all_time)\n",
    "df_all_time"
   ]
  },
  {
   "cell_type": "code",
   "execution_count": 212,
   "metadata": {
    "collapsed": false
   },
   "outputs": [
    {
     "data": {
      "image/png": "[encoded data removed]",
      "text/plain": [
       "<matplotlib.figure.Figure at 0x12c89c110>"
      ]
     },
     "metadata": {},
     "output_type": "display_data"
    }
   ],
   "source": [
    "#Chart for commuter flow by time of day, all subway stations\n",
    "\n",
    "width = 1\n",
    "x = df_all_time['TIME']\n",
    "plt.bar(x,df_all_time['avg(entries)'], color = 'cyan', label = 'entries',width = 1)\n",
    "plt.bar(x+width,df_all_time['avg(exits)'], color='yellow',label = 'exits',width = 1)\n",
    "\n",
    "plt.xlabel('Time of Day')\n",
    "plt.ylabel('Average Number of Riders')\n",
    "plt.xticks(x,['8PM -12AM', '12AM - 4AM', '4AM - 8AM', '8AM - 12PM', '12PM - 4PM', '4PM -8PM', '8PM-12AM'])\n",
    "plt.title('All Stations: Subway Riders')\n",
    "\n",
    "patch1 = mpatches.Patch(color = 'cyan', label = 'entries')\n",
    "patch2 = mpatches.Patch(color = 'yellow',label = 'exits')\n",
    "\n",
    "\n",
    "plt.legend(bbox_to_anchor = (0.2,1), handles = [patch1, patch2])\n",
    "plt.show()"
   ]
  },
  {
   "cell_type": "code",
   "execution_count": null,
   "metadata": {
    "collapsed": true
   },
   "outputs": [],
   "source": []
  }
 ],
 "metadata": {
  "kernelspec": {
   "display_name": "Python 2",
   "language": "python",
   "name": "python2"
  },
  "language_info": {
   "codemirror_mode": {
    "name": "ipython",
    "version": 2
   },
   "file_extension": ".py",
   "mimetype": "text/x-python",
   "name": "python",
   "nbconvert_exporter": "python",
   "pygments_lexer": "ipython2",
   "version": "2.7.13"
  }
 },
 "nbformat": 4,
 "nbformat_minor": 0
}
