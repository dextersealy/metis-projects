{
 "cells": [
  {
   "cell_type": "markdown",
   "metadata": {
    "collapsed": true
   },
   "source": [
    "# Sections"
   ]
  },
  {
   "cell_type": "markdown",
   "metadata": {},
   "source": [
    "[Objective](#Objective)  \n",
    "[Setup](#Exploratory-analysis)  \n",
    "[Load aata](#Load-data)  \n",
    "[Clean and tokenize text](#Clean-and-tokenize-text)  \n",
    "[Clustering](#Clustering)\n",
    "\n",
    "- [KMeans](#KMeans)\n",
    "- [NMF](#NMF)\n",
    "- <a href='#agglomerative clustering'>Agglomerative (Ward)</a>\n",
    "\n",
    "[Export clusters](#Export-clusters)  \n",
    "[Scratchpad](#Scratchpad)"
   ]
  },
  {
   "cell_type": "markdown",
   "metadata": {
    "collapsed": true
   },
   "source": [
    "# Objective\n",
    "[Back to top](#Sections)"
   ]
  },
  {
   "cell_type": "markdown",
   "metadata": {},
   "source": [
    "#### How much interest will a new rental listing on RentHop receive?\n",
    "\n",
    "In this Kaggle <a href='https://www.kaggle.com/c/two-sigma-connect-rental-listing-inquiries/data'>competition</a>, the aim is to predict how popular an apartment rental listing is based on the listing content like text description, photos, number of bedrooms, price, etc.\n",
    "\n",
    "This workbook explores whether there are any insights to be gained from the text descripiton."
   ]
  },
  {
   "cell_type": "markdown",
   "metadata": {},
   "source": [
    "# Setup\n",
    "[Back to top](#Sections)"
   ]
  },
  {
   "cell_type": "code",
   "execution_count": 8,
   "metadata": {
    "collapsed": true
   },
   "outputs": [],
   "source": [
    "from __future__ import print_function, division"
   ]
  },
  {
   "cell_type": "code",
   "execution_count": 9,
   "metadata": {
    "collapsed": false
   },
   "outputs": [],
   "source": [
    "from collections import OrderedDict\n",
    "from collections import Counter\n",
    "import numpy as np\n",
    "import pandas as pd\n",
    "import re\n",
    "import seaborn as sns\n",
    "import sys\n",
    "import matplotlib.pyplot as plt\n",
    "%matplotlib inline"
   ]
  },
  {
   "cell_type": "markdown",
   "metadata": {},
   "source": [
    "Define functions for producing nicely formatted output."
   ]
  },
  {
   "cell_type": "code",
   "execution_count": 10,
   "metadata": {
    "collapsed": true
   },
   "outputs": [],
   "source": [
    "# %load utils.py\n",
    "from IPython.display import display, HTML\n",
    "\n",
    "def pp_bold(str):\n",
    "    display(HTML('<b>{}</b>'.format(str)))\n",
    "\n",
    "\n",
    "def pp_listOflist(l):\n",
    "    display(HTML(\n",
    "        u'<table>{}</table>'.format(\n",
    "            u''.join(u'<tr>{}</tr>'.format(\n",
    "                u''.join(u'<td>{}</td>'.format(v) for v in sublist)) for sublist in l))))\n",
    "    \n",
    "\n",
    "def pp_dict(d, rows=None):\n",
    "    if not rows or rows >= len(d):\n",
    "        display(HTML(\n",
    "            u'<table>{}</table>'.format(\n",
    "                u''.join(u'<tr><td><b>{}</b></td><td>{}</td></tr>'.format(k, d[k]) for k in d))))\n",
    "    else:\n",
    "        nitems = len(d)\n",
    "        width = -(-nitems // rows)\n",
    "        i = 0\n",
    "        list_ = [[] for _ in range(rows)]\n",
    "        for _ in range(width):\n",
    "            for row in range(rows):\n",
    "                if i < nitems:\n",
    "                    k, v = d.items()[i]\n",
    "                    list_[row].extend(['<b>{}</b>'.format(k), v])\n",
    "                i += 1\n",
    "        pp_listOflist(list_)\n",
    "\n",
    "\n",
    "def pp_dictOflist(d):\n",
    "    display(HTML(\n",
    "        u'<table>{}</table>'.format(\n",
    "            u''.join(u'<tr><td><b>{}</b></td>{}</tr>'.format(k,\n",
    "                u''.join(u'<td>{}</td>'.format(v) for v in d[k])) for k in d.keys()))))\n",
    "    \n",
    "\n",
    "def pp_dfinfo(df, width=4):\n",
    "    ncols = len(df.columns)\n",
    "    width = min(width, ncols)\n",
    "    depth = -(-ncols // width)\n",
    "    i = 0\n",
    "    list_ = [[] for _ in range(depth)]\n",
    "    for _ in range(width):\n",
    "        for row in range(depth):\n",
    "            if i < ncols:\n",
    "                col = df.columns[i]\n",
    "                list_[row].extend(['<b>{}</b>'.format(col), df[col].count(), df.dtypes[i]])\n",
    "            i += 1\n",
    "\n",
    "    print('{} entries, {} columns'.format(len(df), ncols))\n",
    "    pp_listOflist(list_)\n",
    "\n",
    "\n",
    "def pp_counts(series, rows=1, caption=None):\n",
    "    if caption: pp_bold(caption)\n",
    "    list_ = [(k, '{:.4f}'.format(v)) for k, v in series.to_dict().items()] \n",
    "    dict_ = OrderedDict(sorted(list_, key=lambda x: x[0]))\n",
    "    pp_dict(dict_, rows)\n",
    "\n",
    "\n",
    "def pp_progress(s):\n",
    "    sys.stdout.write('\\r{}'.format(s))\n",
    "    sys.stdout.flush()\n"
   ]
  },
  {
   "cell_type": "markdown",
   "metadata": {},
   "source": [
    "Define functions for creating plots and summary tables."
   ]
  },
  {
   "cell_type": "code",
   "execution_count": 11,
   "metadata": {
    "collapsed": true
   },
   "outputs": [],
   "source": [
    "# %load plots.py\n",
    "def percentplot(data, var, title=None, xlabel='', ax=None):\n",
    "    ax = sns.barplot(x=var, y=var, data=data, estimator=lambda x: len(x) * 100 / len(data))\n",
    "    ax.set(ylabel=\"Percent\")\n",
    "    ax.set(xlabel=xlabel if xlabel else '')\n",
    "    ax.set(title=var if not title else title)\n",
    "    return ax\n",
    "\n",
    "    \n",
    "def categoryplot(data, feature, category='interest_level', xlabel='', ax=None):\n",
    "    values = pd.DataFrame()\n",
    "    grouped = data.groupby([category, feature]).count()\n",
    "    categories = data[category].cat.categories\n",
    "    for c in categories:\n",
    "        values[c] = grouped.xs(c).iloc[:,1]\n",
    "    values = values.apply(lambda x: x * 100 / np.sum(x), axis=1)\n",
    "    \n",
    "    space = 0.1\n",
    "    n = len(categories)\n",
    "    width = (1.0 - space) / n\n",
    "    \n",
    "    xlabels = None\n",
    "    for i, cat in enumerate(categories):\n",
    "        percents = values.loc[:,cat]\n",
    "        indices = range(len(percents))\n",
    "        pos = [j - (1.0 - space) / n + i * width for j in indices]\n",
    "        ax.bar(pos, percents, width=width, label=cat, color=sns.color_palette()[i])\n",
    "        if i == 0:\n",
    "            ax.set_xticks(indices)\n",
    "            ax.set_xticklabels(percents.axes[0])\n",
    "\n",
    "    handles, labels = ax.get_legend_handles_labels()\n",
    "    ax.legend(handles[::-1], labels[::-1])\n",
    "    ax.set_ylabel('percent')\n",
    "    ax.set_xlabel(xlabel if xlabel else '')\n",
    "    return ax\n",
    "\n",
    "\n",
    "def feature_hist(df, column, title=None, xlabel='', rotation=None):\n",
    "    fig = plt.figure(figsize=(10, 8))\n",
    "    ax1 = percentplot(df, column, title, xlabel=xlabel, ax=plt.subplot(211))\n",
    "    ax2 = categoryplot(df, column, xlabel=xlabel, ax=plt.subplot(212))\n",
    "    if rotation:\n",
    "        for item in ax1.get_xticklabels():\n",
    "            item.set_rotation(rotation)\n",
    "        for item in ax2.get_xticklabels():\n",
    "            item.set_rotation(rotation)\n",
    "    fig.tight_layout()\n"
   ]
  },
  {
   "cell_type": "markdown",
   "metadata": {},
   "source": [
    "## Load data\n",
    "[Back to top](#Sections)"
   ]
  },
  {
   "cell_type": "markdown",
   "metadata": {},
   "source": [
    "Open listings database (see ```data_import.ipynb```)"
   ]
  },
  {
   "cell_type": "code",
   "execution_count": 12,
   "metadata": {
    "collapsed": true
   },
   "outputs": [],
   "source": [
    "from pymongo import MongoClient"
   ]
  },
  {
   "cell_type": "code",
   "execution_count": 13,
   "metadata": {
    "collapsed": false
   },
   "outputs": [
    {
     "data": {
      "text/html": [
       "<b>49352 listings</b>"
      ],
      "text/plain": [
       "<IPython.core.display.HTML object>"
      ]
     },
     "metadata": {},
     "output_type": "display_data"
    }
   ],
   "source": [
    "client = MongoClient('ec2-34-198-246-43.compute-1.amazonaws.com', 27017)\n",
    "db = client.renthop\n",
    "collection = db.listings\n",
    "pp_bold('{} listings'.format(collection.count()))"
   ]
  },
  {
   "cell_type": "markdown",
   "metadata": {
    "collapsed": true
   },
   "source": [
    "Print one of them."
   ]
  },
  {
   "cell_type": "code",
   "execution_count": 14,
   "metadata": {
    "collapsed": false
   },
   "outputs": [
    {
     "data": {
      "text/html": [
       "<table><tr><td><b>listing_id</b></td><td>6818139</td></tr><tr><td><b>_id</b></td><td>58ac97520b0203c6b6436f4c</td></tr><tr><td><b>display_address</b></td><td>Hausman Street</td></tr><tr><td><b>description</b></td><td>This one WON'T LAST!! Here is a stunning 3 Bedroom, 2 Full Bathroom apartment measuring approximately 1100 sqft! The layout is NOT a railroad with a King Sized master bedroom complete with on suite full bathroom and bay-windows. The 2nd and 3rd bedrooms can fit a Full or Queen sized bed and have over-sized windows.  Thee is a second full bathroom with soaking tub off of the main hallway. Open concept kitchen with large island finished in real stone counters and soft close cabinetry plus Stainless Steel industrial sized appliances! Heated hardwood flooring throughout with tons of sunlight and space. Central HVAC means that you never have to be too hot or too cold again!<br /><br />One of the best locations for street parking in Greenpoint! Don't have a car? No Problem, the Nassau G Train and Grand St L train are within reach.<br /><br />Call, Text, Email Taylor now to schedule your private showing. Not exactly what you are looking for? Email me your search criteria, I Specialize in North Brooklyn!<br /><br /><br /><br />-------------Listing courtesy of Miron Properties. All material herein is intended for information purposes only and has been compiled from sources deemed reliable. Though information is believed to be correct, it is presented subject to errors, omissions, changes or withdrawal without notice.  Miron Properties is a licensed Real Estate Broker.  www.MironProperties.com<p><a  website_redacted </td></tr><tr><td><b>created</b></td><td>2016-04-03 02:22:45</td></tr><tr><td><b>price</b></td><td>2995</td></tr><tr><td><b>bedrooms</b></td><td>3</td></tr><tr><td><b>interest_level</b></td><td>medium</td></tr><tr><td><b>longitude</b></td><td>-73.9389</td></tr><tr><td><b>photos</b></td><td>https://photos.renthop.com/2/6818139_a50e80ff79c71a1ced4ec103985abdd9.jpg\n",
       "https://photos.renthop.com/2/6818139_a2be68c008aeff88347f97dc0350f85d.jpg\n",
       "https://photos.renthop.com/2/6818139_63166d3d69203d7bd63e8e8bb47db8c6.jpg\n",
       "https://photos.renthop.com/2/6818139_1aba230faec5ed91372bb3996b98acf1.jpg\n",
       "https://photos.renthop.com/2/6818139_af28eb103bab59ec9d929c3657d846e6.jpg\n",
       "https://photos.renthop.com/2/6818139_3637c3737c1286332310476fa4d5b1d8.jpg\n",
       "https://photos.renthop.com/2/6818139_83f4bfb1928581fb9feec154629f62e9.jpg</td></tr><tr><td><b>manager_id</b></td><td>198d2e96429920ff71cd06ddff323713</td></tr><tr><td><b>latitude</b></td><td>40.7245</td></tr><tr><td><b>bathrooms</b></td><td>2.0</td></tr><tr><td><b>building_id</b></td><td>f7fc4fd7b6b80615ebfce3e212e17cce</td></tr><tr><td><b>id</b></td><td>110554</td></tr><tr><td><b>street_address</b></td><td>23 Hausman Street</td></tr><tr><td><b>features</b></td><td>Pre-War\n",
       "Dishwasher\n",
       "Hardwood Floors</td></tr></table>"
      ],
      "text/plain": [
       "<IPython.core.display.HTML object>"
      ]
     },
     "metadata": {},
     "output_type": "display_data"
    }
   ],
   "source": [
    "pp_dict(collection.find_one())"
   ]
  },
  {
   "cell_type": "markdown",
   "metadata": {},
   "source": [
    "Copy listing, sans metadata, to dataframe."
   ]
  },
  {
   "cell_type": "code",
   "execution_count": 15,
   "metadata": {
    "collapsed": false
   },
   "outputs": [
    {
     "name": "stdout",
     "output_type": "stream",
     "text": [
      "CPU times: user 968 ms, sys: 2.04 s, total: 3 s\n",
      "Wall time: 51.6 s\n"
     ]
    }
   ],
   "source": [
    "%%time\n",
    "c = collection.find({}, {'_id':0, 'id':0, 'building_id':0, 'manager_id':0, 'listing_id':0, 'photos':0})\n",
    "raw_df = pd.DataFrame(list(c))\n",
    "raw_df.interest_level = raw_df.interest_level.astype('category', categories=['low', 'medium', 'high'])"
   ]
  },
  {
   "cell_type": "markdown",
   "metadata": {},
   "source": [
    "## Clean and tokenize text\n",
    "[Back to top](#Sections)"
   ]
  },
  {
   "cell_type": "code",
   "execution_count": 16,
   "metadata": {
    "collapsed": false
   },
   "outputs": [],
   "source": [
    "import nltk.corpus\n",
    "import nltk.stem.porter\n",
    "import re"
   ]
  },
  {
   "cell_type": "markdown",
   "metadata": {},
   "source": [
    "The raw listing descriptions are polluted with HTML tags and formatting quirks:\n",
    "- **```scrub```** removes meta data, symbols and extraneous text, and repairs formatting errors\n",
    "- **```tokenize```** converts scrubbed text to words (tokens) with optional stemming."
   ]
  },
  {
   "cell_type": "code",
   "execution_count": 17,
   "metadata": {
    "collapsed": false
   },
   "outputs": [],
   "source": [
    "regexs = [\n",
    "    ('<!\\[CDATA\\[|<[^>]+>|<a.*?website_redacted', ' '), # drop HTML tags (e.g., <br>)\n",
    "    ('&[a-z]+;', ' '), # drop HTML entities (e.g., &gt;)\n",
    "    ('([A-Z]{2})([A-Z][a-z])', r'\\1 \\2'), # fix mixed caps: AMENITIESDoorman -> AMENITIES Doorman\n",
    "    ('([a-z])([A-Z])', r'\\1 \\2'), # fix mixed caps (e.g., WasherDryer -> Washer Dryer)\n",
    "    ('([0-9]{4})([a-zA-Z]{2})', r'\\1 \\2'), # fix mixed text and numbers: 9999XX -> 9999 XX\n",
    "    ('([a-zA-Z]{2})([0-9]{2})', r'\\1 \\2'), # fix mixed text and numbers: XX99 -> XX 99\n",
    "    (r'[/\"`.,!?;:=&~+_#<>${}\\r\\*\\(\\)\\|\\[\\]\\-\\\\]', ' '), # drop punctuation\n",
    "    ('[0-9]{2}[0-9]+[^a-zA-Z]', ' '), # drop long digit sequences\n",
    "    (r'([^a-zA-Z])\\'', r'\\1'), # drop orphan apostrophe\n",
    "    (r'\\'([^a-zA-Z])', r'\\1'), # drop orphan apostrophe\n",
    "    # convert subway lines to longer words that survive tokenization\n",
    "    (r' ([ABCDEFMGLJZNQRWS]) ', r' \\1Line '),\n",
    "    (r' ([ABCDEFMGLJZNQRWS]) ', r' \\1Line '),\n",
    "    (r' 1 ', ' one '),   (r' 2 ', ' two '),\n",
    "    (r' 3 ', ' three '), (r' 4 ', ' four '),\n",
    "    (r' 5 ', ' five '),  (r' 6 ', ' six '),\n",
    "    (r' 7 ', ' seven '),\n",
    "]\n",
    "\n",
    "def scrub(text):\n",
    "    for a, b in regexs:\n",
    "        text = re.sub(a, b, text)\n",
    "    return text"
   ]
  },
  {
   "cell_type": "code",
   "execution_count": 18,
   "metadata": {
    "collapsed": false
   },
   "outputs": [],
   "source": [
    "stemmer = nltk.stem.porter.PorterStemmer()\n",
    "stems = {}\n",
    "def get_stem(w):\n",
    "    stem = stems.get(w, None)\n",
    "    if not stem:\n",
    "        stem = stemmer.stem(w).replace('\\'', '')\n",
    "        stems[w] = stem\n",
    "    return stem\n",
    "\n",
    "STOP_WORDS = \"\"\"\n",
    "    apartment unit\n",
    "    email call contact text com kagglemanager@renthop www\n",
    "    \"\"\"\n",
    "stops = set(STOP_WORDS.split()).union(nltk.corpus.stopwords.words('english'))\n",
    "\n",
    "def tokenize(text, stemming=False):\n",
    "    tokens = []\n",
    "    for word in text.encode('ascii', 'ignore').lower().split():\n",
    "        if word in stops:\n",
    "            continue\n",
    "        elif stemming:\n",
    "            word = get_stem(word)\n",
    "            if word in stops:\n",
    "                continue\n",
    "        tokens.append(word)\n",
    "    return ' '.join(tokens)"
   ]
  },
  {
   "cell_type": "markdown",
   "metadata": {},
   "source": [
    "Drop empty descriptions"
   ]
  },
  {
   "cell_type": "code",
   "execution_count": 19,
   "metadata": {
    "collapsed": false
   },
   "outputs": [],
   "source": [
    "df = raw_df.copy()\n",
    "#no_description = df[df.description=='']\n",
    "#df = df.drop(no_description.index)\n",
    "#pp_bold('Ignoring {} listings, {} remain'.format(len(no_description), len(df)))"
   ]
  },
  {
   "cell_type": "markdown",
   "metadata": {},
   "source": [
    "Scrub and tokenize the listings."
   ]
  },
  {
   "cell_type": "code",
   "execution_count": 20,
   "metadata": {
    "collapsed": false
   },
   "outputs": [
    {
     "name": "stdout",
     "output_type": "stream",
     "text": [
      "CPU times: user 12.5 s, sys: 0 ns, total: 12.5 s\n",
      "Wall time: 12.4 s\n"
     ]
    }
   ],
   "source": [
    "%%time\n",
    "df['scrubbed'] = df.description.apply(lambda x: scrub(x))\n",
    "df['tokens'] = df.scrubbed.apply(lambda x: tokenize(x))"
   ]
  },
  {
   "cell_type": "markdown",
   "metadata": {},
   "source": [
    "Here's what we're left with."
   ]
  },
  {
   "cell_type": "code",
   "execution_count": 21,
   "metadata": {
    "collapsed": false
   },
   "outputs": [
    {
     "data": {
      "text/html": [
       "<table><tr><td><b>descriptions</b></td><td>45683</td></tr><tr><td><b>total words</b></td><td>2895612</td></tr><tr><td><b>unique words</b></td><td>24428</td></tr><tr><td><b>repeated words</b></td><td>15495</td></tr><tr><td><b>median length</b></td><td>56.0</td></tr></table>"
      ],
      "text/plain": [
       "<IPython.core.display.HTML object>"
      ]
     },
     "metadata": {},
     "output_type": "display_data"
    }
   ],
   "source": [
    "descriptions = df.tokens.apply(lambda x: x.split() if x else np.nan).dropna()\n",
    "unique_words = Counter([word for listing in descriptions for word in listing])\n",
    "repeat_words = sum([1 for word, count in unique_words.items() if count > 1])\n",
    "total_words = np.sum(descriptions.apply(lambda x: len(x)))\n",
    "median_len = np.median(descriptions.apply(lambda x: len(x)))\n",
    "pp_dict(OrderedDict([\n",
    "        ('descriptions', len(descriptions)), \n",
    "        ('total words', total_words), \n",
    "        ('unique words', len(unique_words)),\n",
    "        ('repeated words', repeat_words),\n",
    "        ('median length', np.round(median_len))]))"
   ]
  },
  {
   "cell_type": "markdown",
   "metadata": {},
   "source": [
    " And here's an example of how the text is transformed."
   ]
  },
  {
   "cell_type": "code",
   "execution_count": 22,
   "metadata": {
    "collapsed": false
   },
   "outputs": [
    {
     "data": {
      "text/html": [
       "<table><tr><td><b>description</b></td><td>Loft like 12 ft CeilingsOversized, energy efficient windowsGranite & Porcelain gourmet KitchenPolished chrome fixtures throughoutMinutes from A,C,2,3,4,5,J,Z,R Trains!Minutes from Wall St, Seaport, Stone St&lt;br /&gt;&lt;br /&gt;Elevator / 24 Hr DoormanFitness CenterGreat Roofdeck for summerShoot Pool in Tenant's LoungeImmaculately restored Lobby&lt;br /&gt;&lt;br /&gt;To schedule a viewing please call or text Justin @ 498-701-6489 or email at kagglemanager@renthop.com&lt;br /&gt;&lt;br /&gt;&lt;p&gt;&lt;a  website_redacted </td></tr><tr><td><b>scrubbed</b></td><td>Loft like 12 ft Ceilings Oversized  energy efficient windows Granite   Porcelain gourmet Kitchen Polished chrome fixtures throughout Minutes from ALine CLine two three four five JLine ZLine RLine Trains Minutes from Wall St  Seaport  Stone St  Elevator   24 Hr Doorman Fitness Center Great Roofdeck for summer Shoot Pool in Tenant's Lounge Immaculately restored Lobby  To schedule a viewing please call or text Justin @    or email at kagglemanager@renthop com     </td></tr><tr><td><b>tokens</b></td><td>loft like 12 ft ceilings oversized energy efficient windows granite porcelain gourmet kitchen polished chrome fixtures throughout minutes aline cline two three four five jline zline rline trains minutes wall st seaport stone st elevator 24 hr doorman fitness center great roofdeck summer shoot pool tenant's lounge immaculately restored lobby schedule viewing please justin @</td></tr></table>"
      ],
      "text/plain": [
       "<IPython.core.display.HTML object>"
      ]
     },
     "metadata": {},
     "output_type": "display_data"
    }
   ],
   "source": [
    "example = OrderedDict()\n",
    "for col in ['description', 'scrubbed', 'tokens']:\n",
    "    example[col] = df[col][282].replace('<', '&lt;').replace('>', '&gt;')\n",
    "pp_dict(example)"
   ]
  },
  {
   "cell_type": "markdown",
   "metadata": {},
   "source": [
    "## Clustering\n",
    "[Back to top](#Sections)"
   ]
  },
  {
   "cell_type": "markdown",
   "metadata": {},
   "source": [
    "Let's see what NLP clustering can tell us. First import all the scikit-learn modules we'll be using."
   ]
  },
  {
   "cell_type": "code",
   "execution_count": 54,
   "metadata": {
    "collapsed": true
   },
   "outputs": [],
   "source": [
    "from sklearn.feature_extraction.text import TfidfVectorizer\n",
    "from sklearn.cluster import MiniBatchKMeans, KMeans\n",
    "from sklearn.cluster import AgglomerativeClustering\n",
    "from sklearn.decomposition import NMF\n",
    "from sklearn.decomposition import TruncatedSVD\n",
    "from sklearn.cluster import DBSCAN\n",
    "from sklearn.metrics import silhouette_score\n",
    "from sklearn.metrics.pairwise import pairwise_distances\n",
    "from sklearn.externals import joblib"
   ]
  },
  {
   "cell_type": "markdown",
   "metadata": {},
   "source": [
    "Create the requisite TF-IDF matrix of [n_samples, n_features]. I hand-tuned **max_df** and **max_df** to elmininate rare words, and also common words that appear so often as to be meaningless. The resulting matrix has ~1300 n-grams. "
   ]
  },
  {
   "cell_type": "code",
   "execution_count": 55,
   "metadata": {
    "collapsed": false
   },
   "outputs": [
    {
     "name": "stdout",
     "output_type": "stream",
     "text": [
      "CPU times: user 12.6 s, sys: 332 ms, total: 12.9 s\n",
      "Wall time: 12.9 s\n",
      "(49352, 1325)\n"
     ]
    }
   ],
   "source": [
    "params = {\n",
    "    'min_df' : .01, 'max_df' : 0.8, 'max_features' : 200000, 'ngram_range' : (1,2)\n",
    "    }\n",
    "tfidf_vectorizer = TfidfVectorizer(**params)\n",
    "%time tfidf_matrix = tfidf_vectorizer.fit_transform(df.tokens)\n",
    "print(tfidf_matrix.shape)"
   ]
  },
  {
   "cell_type": "markdown",
   "metadata": {},
   "source": [
    "### KMeans\n",
    "[Back to top](#Sections)"
   ]
  },
  {
   "cell_type": "markdown",
   "metadata": {},
   "source": [
    "With KMeans, you specify how many clusters to create. As I don't know beforehand, try different values and examine the resulting silhouette and inertia scores. To save time, use a subset of the data and precompute the pairwise distances."
   ]
  },
  {
   "cell_type": "code",
   "execution_count": 31,
   "metadata": {
    "collapsed": true
   },
   "outputs": [],
   "source": [
    "km_sample = tfidf_matrix[:5000]\n",
    "km_distances = pairwise_distances(km_sample, metric='cosine')"
   ]
  },
  {
   "cell_type": "code",
   "execution_count": 32,
   "metadata": {
    "collapsed": false
   },
   "outputs": [
    {
     "name": "stdout",
     "output_type": "stream",
     "text": [
      "Fitting KMeans with 20 clusters ... done\n"
     ]
    }
   ],
   "source": [
    "km_scores = { 'silhouette' : [], 'inertia' : [] }\n",
    "km_params = { 'n_clusters' : 0, 'random_state' : 4444, 'init' : 'k-means++', 'n_jobs' : -1}\n",
    "km_range = range(2, 21)\n",
    "for n_clusters in km_range:\n",
    "    pp_progress('Fitting KMeans with {} clusters ... '.format(n_clusters))\n",
    "    km_params['n_clusters'] = n_clusters\n",
    "    km = KMeans(**km_params)\n",
    "    km.fit(km_sample)\n",
    "    km_scores['silhouette'].append(silhouette_score(km_distances, km.labels_, metric='precomputed'))\n",
    "    km_scores['inertia'].append(km.inertia_)\n",
    "print('done')"
   ]
  },
  {
   "cell_type": "markdown",
   "metadata": {},
   "source": [
    "Here I plot the results."
   ]
  },
  {
   "cell_type": "code",
   "execution_count": 33,
   "metadata": {
    "collapsed": false
   },
   "outputs": [
    {
     "data": {
      "image/png": "[encoded data removed]",
      "text/plain": [
       "<matplotlib.figure.Figure at 0x7fd6f8d85a50>"
      ]
     },
     "metadata": {},
     "output_type": "display_data"
    }
   ],
   "source": [
    "plt.figure(figsize=(15, 10))\n",
    "\n",
    "ax = plt.subplot(211)\n",
    "plt.plot(km_range, km_scores['silhouette'])\n",
    "plt.xticks(km_range, km_range)\n",
    "ax.set(title='KMeans Silhouette Scores', ylabel='Silhouette Coefficient')\n",
    "\n",
    "ax = plt.subplot(212)\n",
    "plt.plot(km_range, km_scores['inertia'])\n",
    "plt.xticks(km_range, km_range)\n",
    "ax.set(title=\"KMeans Inertia Scores\", xlabel='Number of Clusters', ylabel='Inertia')\n",
    "plt.show()"
   ]
  },
  {
   "cell_type": "markdown",
   "metadata": {},
   "source": [
    "I'd rather have more clusters (assuming they're evenly populated) so here I fit the entire dataset to 13 clusters."
   ]
  },
  {
   "cell_type": "code",
   "execution_count": 34,
   "metadata": {
    "collapsed": false
   },
   "outputs": [
    {
     "name": "stdout",
     "output_type": "stream",
     "text": [
      "CPU times: user 1.95 s, sys: 1.37 s, total: 3.32 s\n",
      "Wall time: 12min 26s\n"
     ]
    }
   ],
   "source": [
    "%%time\n",
    "params = {'n_clusters' : 13, 'random_state' : 4444,  'init' : 'k-means++', 'n_jobs' : -1}\n",
    "km = KMeans(**params)\n",
    "km.fit(tfidf_matrix)"
   ]
  },
  {
   "cell_type": "code",
   "execution_count": 242,
   "metadata": {
    "collapsed": false
   },
   "outputs": [],
   "source": [
    "#joblib.dump(km, './data/KMeans.pkl')\n",
    "km = joblib.load('./data/KMeans.pkl')"
   ]
  },
  {
   "cell_type": "markdown",
   "metadata": {},
   "source": [
    "The table below contains the ten most common words in each cluster. Clusters 3, 5, 7 and 10 appear to identify specific agencies (Bond, Cooper and Miron). Of the remaining, these have easily identifed features:\n",
    "- cluster 0: fitness center, amenities, views, concierge\n",
    "- cluster 2: east side, west side\n",
    "- cluster 4: one month free\n",
    "- cluster 11: exposed brick, hardwood floors, washer/dryer\n",
    "- cluster 12: heat and hot water included"
   ]
  },
  {
   "cell_type": "code",
   "execution_count": 229,
   "metadata": {
    "collapsed": false
   },
   "outputs": [
    {
     "data": {
      "text/html": [
       "<table><tr><td><b>0</b></td><td>hour, 24 hour, 24, center, fitness, room, fitness center, valet, amenities, concierge</td><td><b>4</b></td><td>pictures, studio, coming, soon, please, description, today, agent, residential, questions</td><td><b>8</b></td><td>views, building, center, floor, city, amenities, room, lounge, luxury, fitness</td><td><b>12</b></td><td>village, east village, west village, east, west, bedroom, renovated, greenwich, one, greenwich village</td></tr><tr><td><b>1</b></td><td>one, bedroom, two, great, large, kitchen, room, living, building, space</td><td><b>5</b></td><td>hot water, heat, included, water, hot, heat hot, water included, rent, one, building</td><td><b>9</b></td><td>cooper, cooper cooper, buying seminar, seminar, cline, buying, access, search, aline cline, us information</td></tr><tr><td><b>2</b></td><td>crown baseboard, baseboard, cabinets crown, floors recessed, baseboard moldings, recessed lighting, crown, recessed, moldings, lighting</td><td><b>6</b></td><td>steel, stainless steel, stainless, steel appliances, appliances, renovated, bedroom, dishwasher, hardwood, washer</td><td><b>10</b></td><td>side, upper, east side, upper east, east, west side, upper west, west, building, one</td></tr><tr><td><b>3</b></td><td>bond, bond new, broker supports, supports equal, supports, equal housing, housing opportunity, york real, housing, equal</td><td><b>7</b></td><td>building, doorman, aline, laundry, fee, space, kitchen, room, full, 24</td><td><b>11</b></td><td>miron, miron properties, properties, information, changes, changes withdrawal, omissions changes, presented subject, correct, information believed</td></tr></table>"
      ],
      "text/plain": [
       "<IPython.core.display.HTML object>"
      ]
     },
     "metadata": {},
     "output_type": "display_data"
    }
   ],
   "source": [
    "topics = {}\n",
    "words = np.asarray(tfidf_vectorizer.get_feature_names())\n",
    "for r in km.cluster_centers_:\n",
    "    feature_importances = r.argsort()[::-1]\n",
    "    topics[len(topics)] = ', '.join(words[feature_importances][:10])\n",
    "pp_dict(topics, rows=4)"
   ]
  },
  {
   "cell_type": "markdown",
   "metadata": {},
   "source": [
    "How do the clusters align with our target variable? It's a mixed bag. The Cooper cluster (five) is strongly correlated with low interest, but it's only 1% of the data. So is cluster seven, but the correlation is not as strong. Of the others, clusters four, six, eight and twelve deviate from the overall percentages."
   ]
  },
  {
   "cell_type": "code",
   "execution_count": 230,
   "metadata": {
    "collapsed": false
   },
   "outputs": [
    {
     "data": {
      "text/html": [
       "<b>K Means Clusters:</b>"
      ],
      "text/plain": [
       "<IPython.core.display.HTML object>"
      ]
     },
     "metadata": {},
     "output_type": "display_data"
    },
    {
     "data": {
      "text/html": [
       "<table><tr><td><b>0</b></td><td>0.0717</td><td><b>2</b></td><td>0.0120</td><td><b>4</b></td><td>0.1155</td><td><b>6</b></td><td>0.0888</td><td><b>8</b></td><td>0.1126</td><td><b>10</b></td><td>0.0626</td><td><b>12</b></td><td>0.0374</td></tr><tr><td><b>1</b></td><td>0.1969</td><td><b>3</b></td><td>0.1046</td><td><b>5</b></td><td>0.0372</td><td><b>7</b></td><td>0.1324</td><td><b>9</b></td><td>0.0144</td><td><b>11</b></td><td>0.0140</td></tr></table>"
      ],
      "text/plain": [
       "<IPython.core.display.HTML object>"
      ]
     },
     "metadata": {},
     "output_type": "display_data"
    },
    {
     "data": {
      "image/png": "[encoded data removed]",
      "text/plain": [
       "<matplotlib.figure.Figure at 0x7f7fb10622d0>"
      ]
     },
     "metadata": {},
     "output_type": "display_data"
    }
   ],
   "source": [
    "df['km_clusters'] = km.labels_.tolist()\n",
    "feature_hist(df, 'km_clusters', 'K Means (n_clusters=10)', xlabel='Cluster')\n",
    "pp_counts(df.km_clusters.value_counts(normalize=True), caption='K Means Clusters:', rows=2)"
   ]
  },
  {
   "cell_type": "markdown",
   "metadata": {},
   "source": [
    "### NMF\n",
    "[Back to top](#Sections)"
   ]
  },
  {
   "cell_type": "markdown",
   "metadata": {},
   "source": [
    "KMeans gave mixed results, so try NMF. It also requires that you specify how many clusters to create, so again try several and plot the results. The curve flattens at 20 clusters."
   ]
  },
  {
   "cell_type": "code",
   "execution_count": 38,
   "metadata": {
    "collapsed": true
   },
   "outputs": [],
   "source": [
    "nmf_sample = tfidf_matrix[:5000]\n",
    "nmf_distances = pairwise_distances(nmf_sample, metric='euclidean')"
   ]
  },
  {
   "cell_type": "code",
   "execution_count": 39,
   "metadata": {
    "collapsed": false,
    "scrolled": true
   },
   "outputs": [
    {
     "name": "stdout",
     "output_type": "stream",
     "text": [
      "Fitting NMF with 30 clusters ... done\n"
     ]
    }
   ],
   "source": [
    "nmf_scores = { 'silhouette' : [] }\n",
    "nmf_params = { 'n_components' : 0, 'random_state' : 4444 }\n",
    "nmf_range = range(2, 31)\n",
    "\n",
    "for n_components in nmf_range:\n",
    "    pp_progress('Fitting NMF with {} clusters ... '.format(n_components))\n",
    "    nmf_params['n_components'] = n_components\n",
    "    nmf = NMF(**nmf_params)\n",
    "    nmf_factors = nmf.fit_transform(nmf_sample)\n",
    "    nmf_labels = nmf_factors.argmax(axis=1)\n",
    "    nmf_scores['silhouette'].append(silhouette_score(nmf_distances, nmf_labels, metric='precomputed'))\n",
    "print('done')"
   ]
  },
  {
   "cell_type": "code",
   "execution_count": 40,
   "metadata": {
    "collapsed": false
   },
   "outputs": [
    {
     "data": {
      "image/png": "[encoded data removed]",
      "text/plain": [
       "<matplotlib.figure.Figure at 0x7fd6e3a0f9d0>"
      ]
     },
     "metadata": {},
     "output_type": "display_data"
    }
   ],
   "source": [
    "plt.figure(figsize=(30,6))\n",
    "ax = plt.subplot(121)\n",
    "plt.plot(nmf_range, nmf_scores['silhouette'])\n",
    "plt.xticks(nmf_range, nmf_range)\n",
    "ax.set(title='NMF Silhouette Scores', xlabel='Number of Clusters', ylabel='Silhouette Coefficient')\n",
    "plt.show()"
   ]
  },
  {
   "cell_type": "code",
   "execution_count": 235,
   "metadata": {
    "collapsed": false
   },
   "outputs": [
    {
     "name": "stdout",
     "output_type": "stream",
     "text": [
      "CPU times: user 18.5 s, sys: 16.8 s, total: 35.3 s\n",
      "Wall time: 16.4 s\n"
     ]
    }
   ],
   "source": [
    "%%time\n",
    "params = { 'n_components' : 22, 'random_state' : 4444 }\n",
    "nmf = NMF(**params)\n",
    "nmf_factors = nmf.fit_transform(tfidf_matrix)"
   ]
  },
  {
   "cell_type": "code",
   "execution_count": 236,
   "metadata": {
    "collapsed": false
   },
   "outputs": [
    {
     "data": {
      "text/plain": [
       "['./data/NMF.pkl']"
      ]
     },
     "execution_count": 236,
     "metadata": {},
     "output_type": "execute_result"
    }
   ],
   "source": [
    "joblib.dump(nmf, './data/NMF.pkl')\n",
    "#nmf = joblib.load('./data/NMF.pkl')"
   ]
  },
  {
   "cell_type": "markdown",
   "metadata": {},
   "source": [
    "Here are the most common words in each cluster."
   ]
  },
  {
   "cell_type": "code",
   "execution_count": 237,
   "metadata": {
    "collapsed": false
   },
   "outputs": [
    {
     "data": {
      "text/html": [
       "<table><tr><td><b>0</b></td><td>space, closet, closet space, great, light, natural, lots, natural light, tons, great closet</td><td><b>5</b></td><td>miron properties, miron, properties, information, subject errors, sources deemed, deemed reliable, errors omissions, errors, omissions</td><td><b>10</b></td><td>included, heat, water, hot water, hot, heat hot, water included, gas, rent, video</td><td><b>15</b></td><td>views, floor, city, river, floor ceiling, ceiling, lounge, ceiling windows, outdoor, amenities</td><td><b>20</b></td><td>friendly, pet, pet friendly, location, cleaning, storage, large, wi, fi, wi fi</td></tr><tr><td><b>1</b></td><td>bond, bond new, broker supports, supports equal, supports, equal housing, housing opportunity, york real, housing, equal</td><td><b>6</b></td><td>five, four, trains, six, three, four five, blocks, st, rline, two</td><td><b>11</b></td><td>find, today, home, apartments, access, listings, perfect, help, new home, market</td><td><b>16</b></td><td>west, park, central park, west side, upper west, central, side, upper, steps, columbus</td><td><b>21</b></td><td>ceilings, high ceilings, high, hardwood floors, floors, hardwood, floors high, ceilings hardwood, features, modern</td></tr><tr><td><b>2</b></td><td>cooper, cooper cooper, cline, seminar, buying seminar, buying, access, search, aline cline, aline</td><td><b>7</b></td><td>room, living, living room, two, size, large, bedroom, bedrooms, queen, full</td><td><b>12</b></td><td>one, one bedroom, bedroom, bedroom one, renovated one, one bath, renovated, large one, spacious one, bath</td><td><b>17</b></td><td>washer, washer dryer, dryer, recessed, recessed lighting, lighting, crown baseboard, baseboard, floors recessed, crown</td></tr><tr><td><b>3</b></td><td>brick, exposed, exposed brick, village, east village, dryer, washer dryer, washer, dishwasher, granite kitchen</td><td><b>8</b></td><td>east, east side, upper east, side, upper, side location, heart upper, lower, six, east village</td><td><b>13</b></td><td>24, hour, 24 hour, doorman, hour doorman, deck, roof, fitness, service, center</td><td><b>18</b></td><td>new, brand, brand new, new kitchen, new stainless, gut, gut renovated, new appliances, new hardwood, renovation</td></tr><tr><td><b>4</b></td><td>steel, stainless steel, stainless, steel appliances, appliances, granite, kitchen stainless, counter, tops, granite counter</td><td><b>9</b></td><td>aline, fee, must, feel, feel free, must see, low, see, low fee, free</td><td><b>14</b></td><td>elevator, building, laundry, super, elevator laundry, elevator building, live, live super, studio, laundry building</td><td><b>19</b></td><td>month, rent, one month, free, month free, net, effective, net effective, one, lease</td></tr></table>"
      ],
      "text/plain": [
       "<IPython.core.display.HTML object>"
      ]
     },
     "metadata": {},
     "output_type": "display_data"
    }
   ],
   "source": [
    "topics = {}\n",
    "words = np.asarray(tfidf_vectorizer.get_feature_names())\n",
    "for r in nmf.components_:\n",
    "    feature_importances = r.argsort()[::-1]\n",
    "    topics[len(topics)] = ', '.join(words[feature_importances][:10])\n",
    "pp_dict(topics, rows=5)"
   ]
  },
  {
   "cell_type": "markdown",
   "metadata": {},
   "source": [
    "How do the clusters align with our target variable? "
   ]
  },
  {
   "cell_type": "code",
   "execution_count": 238,
   "metadata": {
    "collapsed": false
   },
   "outputs": [
    {
     "data": {
      "text/html": [
       "<b>NMF Clusters:</b>"
      ],
      "text/plain": [
       "<IPython.core.display.HTML object>"
      ]
     },
     "metadata": {},
     "output_type": "display_data"
    },
    {
     "data": {
      "text/html": [
       "<table><tr><td><b>0</b></td><td>0.0890</td><td><b>3</b></td><td>0.0368</td><td><b>6</b></td><td>0.0507</td><td><b>9</b></td><td>0.0460</td><td><b>12</b></td><td>0.0497</td><td><b>15</b></td><td>0.0644</td><td><b>18</b></td><td>0.0410</td><td><b>21</b></td><td>0.0291</td></tr><tr><td><b>1</b></td><td>0.1035</td><td><b>4</b></td><td>0.0478</td><td><b>7</b></td><td>0.0643</td><td><b>10</b></td><td>0.0346</td><td><b>13</b></td><td>0.0549</td><td><b>16</b></td><td>0.0435</td><td><b>19</b></td><td>0.0345</td></tr><tr><td><b>2</b></td><td>0.0145</td><td><b>5</b></td><td>0.0162</td><td><b>8</b></td><td>0.0375</td><td><b>11</b></td><td>0.0480</td><td><b>14</b></td><td>0.0552</td><td><b>17</b></td><td>0.0174</td><td><b>20</b></td><td>0.0213</td></tr></table>"
      ],
      "text/plain": [
       "<IPython.core.display.HTML object>"
      ]
     },
     "metadata": {},
     "output_type": "display_data"
    },
    {
     "data": {
      "image/png": "[encoded data removed]",
      "text/plain": [
       "<matplotlib.figure.Figure at 0x7f7fb0fa1a10>"
      ]
     },
     "metadata": {},
     "output_type": "display_data"
    }
   ],
   "source": [
    "df['nmf_clusters'] = np.argmax(nmf_factors, axis=1)\n",
    "feature_hist(df, 'nmf_clusters', title='NMF (n_components=22)', xlabel='Cluster')\n",
    "pp_counts(df.nmf_clusters.value_counts(normalize=True), caption='NMF Clusters:', rows=3)"
   ]
  },
  {
   "cell_type": "markdown",
   "metadata": {},
   "source": [
    "<a id='agglomerative clustering'></a>\n",
    "### Agglomerative (Ward) \n",
    "[Back to top](#Sections)"
   ]
  },
  {
   "cell_type": "code",
   "execution_count": 45,
   "metadata": {
    "collapsed": true
   },
   "outputs": [],
   "source": [
    "ward_sample = tfidf_matrix[:5000].toarray()\n",
    "ward_distances = pairwise_distances(ward_sample, metric='cosine')"
   ]
  },
  {
   "cell_type": "code",
   "execution_count": 46,
   "metadata": {
    "collapsed": false
   },
   "outputs": [
    {
     "name": "stdout",
     "output_type": "stream",
     "text": [
      "Fitting Ward with 20 clusters ... done\n"
     ]
    }
   ],
   "source": [
    "ward_scores = { 'silhouette' : [] }\n",
    "ward_params = { 'n_clusters' : 0, 'linkage' : 'ward'}\n",
    "ward_range = range(2, 21)\n",
    "\n",
    "for n_clusters in ward_range:\n",
    "    pp_progress('Fitting Ward with {} clusters ... '.format(n_clusters))\n",
    "    ward_params['n_clusters'] = n_clusters\n",
    "    ward = AgglomerativeClustering(**ward_params)\n",
    "    ward.fit(ward_sample)\n",
    "    ward_scores['silhouette'].append(silhouette_score(ward_distances, ward.labels_, metric='precomputed'))\n",
    "print('done')"
   ]
  },
  {
   "cell_type": "code",
   "execution_count": 47,
   "metadata": {
    "collapsed": false
   },
   "outputs": [
    {
     "data": {
      "image/png": "[encoded data removed]",
      "text/plain": [
       "<matplotlib.figure.Figure at 0x7fd6e3d39150>"
      ]
     },
     "metadata": {},
     "output_type": "display_data"
    }
   ],
   "source": [
    "plt.figure(figsize=(30,6))\n",
    "ax = plt.subplot(121)\n",
    "plt.plot(ward_range, ward_scores['silhouette'])\n",
    "plt.xticks(ward_range, ward_range)\n",
    "ax.set(title='Ward Silhouette Scores', xlabel='Number of Clusters', ylabel='Silhouette Coefficient')\n",
    "plt.show()"
   ]
  },
  {
   "cell_type": "code",
   "execution_count": 48,
   "metadata": {
    "collapsed": false
   },
   "outputs": [
    {
     "name": "stdout",
     "output_type": "stream",
     "text": [
      "CPU times: user 10min 27s, sys: 2min 58s, total: 13min 25s\n",
      "Wall time: 13min 31s\n"
     ]
    }
   ],
   "source": [
    "%%time\n",
    "ward_total = 20000\n",
    "params = { 'n_clusters' : 17, 'linkage' : 'ward' }\n",
    "ward = AgglomerativeClustering(**params)\n",
    "ward.fit(tfidf_matrix[:ward_total].toarray())"
   ]
  },
  {
   "cell_type": "code",
   "execution_count": 3,
   "metadata": {
    "collapsed": false
   },
   "outputs": [],
   "source": [
    "#joblib.dump(ward, './data/Ward.pkl')\n",
    "ward = joblib.load('./data/Ward.pkl')"
   ]
  },
  {
   "cell_type": "markdown",
   "metadata": {},
   "source": [
    "Here are the most common words in each cluster."
   ]
  },
  {
   "cell_type": "code",
   "execution_count": 221,
   "metadata": {
    "collapsed": false
   },
   "outputs": [
    {
     "data": {
      "text/html": [
       "<table><tr><td><b>0</b></td><td>heat, included, hot water, water, heat hot, hot, water included, bedroom, building, one</td><td><b>6</b></td><td>must, must see, see, features hardwood, high ceiling, others, aline must, hotel, renovated features, ceiling</td><td><b>12</b></td><td>crown baseboard, baseboard, cabinets crown, floors recessed, baseboard moldings, recessed lighting, crown, recessed, moldings, lighting</td></tr><tr><td><b>1</b></td><td>building, room, doorman, aline, one, fee, kitchen, space, two, bedroom</td><td><b>7</b></td><td>help find, help, updated, great, place, lovely, floors high, find, block, value</td><td><b>13</b></td><td>granite kitchen, exposed brick, exposed, brick, occupancy, marble bathroom, dishwasher, washer dryer, dryer, granite</td></tr><tr><td><b>2</b></td><td>today, find, one, website, building, let, see, bedroom, home, help</td><td><b>8</b></td><td>miron, miron properties, properties, information, correct, changes, notice miron, broker miron, properties material, properties licensed</td><td><b>14</b></td><td>pictures, coming, soon, photos, best, way, rent, view, minutes, night</td></tr><tr><td><b>3</b></td><td>perfect, today, amazing, fabulous, don miss, years, miss, brokers, finding, forward</td><td><b>9</b></td><td>beauty, next home, features spacious, guarantors, spacious living, next, living area, make, located, allowed</td><td><b>15</b></td><td>description, coming, soon, agent, residential, questions, please, financial district, feel, feel free</td></tr><tr><td><b>4</b></td><td>bond, bond new, broker supports, supports equal, supports, equal housing, housing opportunity, york real, housing, equal</td><td><b>10</b></td><td>bedroom, one, two, kitchen, building, renovated, large, great, room, space</td><td><b>16</b></td><td>location, cleaning, friendly, storage, washer, endless, luxury, landscaped rooftop, bicycle storage, electric</td></tr><tr><td><b>5</b></td><td>center, fitness, building, room, amenities, lounge, fitness center, 24, hour, views</td><td><b>11</b></td><td>cooper, cooper cooper, seminar, buying seminar, cline, buying, access, search, aline cline, unique listings</td></tr></table>"
      ],
      "text/plain": [
       "<IPython.core.display.HTML object>"
      ]
     },
     "metadata": {},
     "output_type": "display_data"
    }
   ],
   "source": [
    "def get_centroid(matrix, rows):\n",
    "    centroid = matrix[rows[0]]\n",
    "    for row in matrix[rows[1:]]:\n",
    "        centroid = centroid + row\n",
    "    centroid = centroid / len(rows)\n",
    "    return centroid.toarray()[0]\n",
    "\n",
    "topics = {}\n",
    "words = np.asarray(tfidf_vectorizer.get_feature_names())\n",
    "for i in range(ward.n_clusters):\n",
    "    rows = df[df.ward_clusters==i].index\n",
    "    centroid = get_centroid(tfidf_matrix, rows)\n",
    "    feature_importances = centroid.argsort()[::-1]\n",
    "    topics[i] = ', '.join(words[feature_importances][:10])\n",
    "pp_dict(topics, rows=6)"
   ]
  },
  {
   "cell_type": "markdown",
   "metadata": {},
   "source": [
    "How do the clusters align with our target variable? "
   ]
  },
  {
   "cell_type": "code",
   "execution_count": 222,
   "metadata": {
    "collapsed": false
   },
   "outputs": [
    {
     "data": {
      "text/html": [
       "<b>Ward Clusters:</b>"
      ],
      "text/plain": [
       "<IPython.core.display.HTML object>"
      ]
     },
     "metadata": {},
     "output_type": "display_data"
    },
    {
     "data": {
      "text/html": [
       "<table><tr><td><b>0.0</b></td><td>0.0272</td><td><b>1.0</b></td><td>0.2106</td><td><b>2.0</b></td><td>0.0614</td><td><b>3.0</b></td><td>0.0037</td><td><b>4.0</b></td><td>0.1042</td><td><b>5.0</b></td><td>0.0975</td><td><b>6.0</b></td><td>0.0066</td><td><b>7.0</b></td><td>0.0037</td><td><b>8.0</b></td><td>0.0138</td><td><b>9.0</b></td><td>0.0045</td><td><b>10.0</b></td><td>0.3462</td><td><b>11.0</b></td><td>0.0138</td><td><b>12.0</b></td><td>0.0115</td><td><b>13.0</b></td><td>0.0124</td><td><b>14.0</b></td><td>0.0771</td><td><b>15.0</b></td><td>0.0029</td><td><b>16.0</b></td><td>0.0028</td></tr></table>"
      ],
      "text/plain": [
       "<IPython.core.display.HTML object>"
      ]
     },
     "metadata": {},
     "output_type": "display_data"
    },
    {
     "data": {
      "image/png": "[encoded data removed]",
      "text/plain": [
       "<matplotlib.figure.Figure at 0x7f7fb0f28f10>"
      ]
     },
     "metadata": {},
     "output_type": "display_data"
    }
   ],
   "source": [
    "df['ward_clusters'] = np.append(ward.labels_, [np.nan]*(len(df)-ward_total))\n",
    "feature_hist(df, 'ward_clusters', 'Ward Clusters')\n",
    "pp_counts(df.ward_clusters.value_counts(normalize=True), caption='Ward Clusters:')"
   ]
  },
  {
   "cell_type": "markdown",
   "metadata": {},
   "source": [
    "## Export clusters\n",
    "[Back to top](#Sections)\n",
    "Export samples and clusters for d3/Flask app"
   ]
  },
  {
   "cell_type": "code",
   "execution_count": 240,
   "metadata": {
    "collapsed": true
   },
   "outputs": [],
   "source": [
    "import json\n",
    "def get_size(bed, bath):\n",
    "    if 0 == bed:\n",
    "        return 'Studio'\n",
    "    else:\n",
    "        return '{}BR, {}BA'.format(bed, int(bath) if int(bath) == bath else bath)"
   ]
  },
  {
   "cell_type": "code",
   "execution_count": 275,
   "metadata": {
    "collapsed": false
   },
   "outputs": [],
   "source": [
    "cols = ['km_clusters', 'nmf_clusters', 'ward_clusters', \n",
    "        'price', 'size', 'street_address', 'description']\n",
    "\n",
    "sample = df[df.tokens!=''].sample(1000, random_state=4444)\n",
    "sample_tfidf_matrix = tfidf_matrix[sample.index]\n",
    "sample.reset_index(inplace=True, drop=True)\n",
    "sample.ward_clusters = sample.ward_clusters.fillna(-1)\n",
    "sample['size'] = [get_size(sample.bedrooms.iloc[i], sample.bathrooms.iloc[i]) for i in range(len(sample))]\n",
    "sample[cols].to_json('./app/nodes.json', orient='index')\n",
    "\n",
    "# KMeans\n",
    "\n",
    "km_clusters = []\n",
    "for i, r in enumerate(km.cluster_centers_):\n",
    "    rows = sample[sample.km_clusters==i]\n",
    "    if 0 < len(rows):\n",
    "        feature_importances = r.argsort()[::-1]\n",
    "        top_words = ', '.join(words[feature_importances][:10])\n",
    "        km_clusters.append({'name' : i, 'size' : len(rows), 'words' : top_words})\n",
    "\n",
    "with open('./app/KMeans_clusters.json', 'w') as fp:\n",
    "    json.dump({'name' : 'root', 'children' : km_clusters}, fp);\n",
    "\n",
    "# NMF\n",
    "    \n",
    "nmf_clusters = []\n",
    "for i, r in enumerate(nmf.components_):\n",
    "    rows = sample[sample.nmf_clusters==i]\n",
    "    if 0 < len(rows):\n",
    "        feature_importances = r.argsort()[::-1]\n",
    "        top_words = ', '.join(words[feature_importances][:10])\n",
    "        nmf_clusters.append({'name' : i, 'size' : len(rows), 'words' : top_words})\n",
    "\n",
    "with open('./app/NMF_clusters.json', 'w') as fp:\n",
    "    json.dump({'name' : 'root', 'children' : nmf_clusters}, fp);\n",
    "\n",
    "# Ward\n",
    "\n",
    "ward_clusters = []\n",
    "for i in range(ward.n_clusters):\n",
    "    rows = sample[sample.ward_clusters==i].index\n",
    "    if 0 < len(rows):\n",
    "        centroid = get_centroid(sample_tfidf_matrix, rows)\n",
    "        feature_importances = centroid.argsort()[::-1]\n",
    "        top_words = ', '.join(words[feature_importances][:10])\n",
    "        ward_clusters.append({'name' : i, 'size' : len(rows), 'words' : top_words})\n",
    "\n",
    "with open('./app/Ward_clusters.json', 'w') as fp:\n",
    "    json.dump({'name' : 'root', 'children' : ward_clusters}, fp);"
   ]
  },
  {
   "cell_type": "markdown",
   "metadata": {},
   "source": [
    "## Scratchpad\n",
    "[Back to top](#Sections)"
   ]
  },
  {
   "cell_type": "markdown",
   "metadata": {},
   "source": [
    "#### DBSCAN"
   ]
  },
  {
   "cell_type": "code",
   "execution_count": null,
   "metadata": {
    "collapsed": false
   },
   "outputs": [],
   "source": [
    "from sklearn.preprocessing import normalize\n",
    "tfidf_normed = normalize(tfidf_matrix)"
   ]
  },
  {
   "cell_type": "code",
   "execution_count": null,
   "metadata": {
    "collapsed": false
   },
   "outputs": [],
   "source": [
    "%%time\n",
    "from sklearn.preprocessing import StandardScaler\n",
    "params = { 'eps' : 5.0, 'min_samples' : 4, 'n_jobs' : -1}\n",
    "n_clusters = []\n",
    "#for eps in range(900, 1000):\n",
    "#    params['eps']=eps/1000.0\n",
    "dbscan = DBSCAN(**params)\n",
    "dbscan.fit(tfidf_normed)\n",
    "#    n_clusters.append(len(dbscan.labels_))\n",
    "    "
   ]
  },
  {
   "cell_type": "code",
   "execution_count": null,
   "metadata": {
    "collapsed": false
   },
   "outputs": [],
   "source": [
    "clusters = dbscan.labels_\n",
    "temp = df[:5000].copy()\n",
    "temp['clusters'] = clusters\n",
    "feature_hist(temp, 'clusters', 'DBSCAN Clusters')\n",
    "pp_counts(temp.clusters.value_counts(normalize=True), caption='DBSCAN Clusters:')"
   ]
  },
  {
   "cell_type": "raw",
   "metadata": {},
   "source": [
    "In case it's needed, use PCA to create a reduced-size matrix with just 100 features."
   ]
  },
  {
   "cell_type": "raw",
   "metadata": {
    "collapsed": true
   },
   "source": [
    "%%time\n",
    "params = { 'n_components' : 100, 'random_state' : 4444 }\n",
    "pca = TruncatedSVD(**params)\n",
    "tfidf_reduced = pca.fit_transform(tfidf_matrix)\n",
    "print(tfidf_reduced.shape, pca.components_.shape)"
   ]
  }
 ],
 "metadata": {
  "anaconda-cloud": {},
  "kernelspec": {
   "display_name": "Python [default]",
   "language": "python",
   "name": "python2"
  },
  "language_info": {
   "codemirror_mode": {
    "name": "ipython",
    "version": 2
   },
   "file_extension": ".py",
   "mimetype": "text/x-python",
   "name": "python",
   "nbconvert_exporter": "python",
   "pygments_lexer": "ipython2",
   "version": "2.7.12"
  }
 },
 "nbformat": 4,
 "nbformat_minor": 1
}
